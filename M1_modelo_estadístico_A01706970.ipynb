{
  "nbformat": 4,
  "nbformat_minor": 0,
  "metadata": {
    "colab": {
      "provenance": [],
      "toc_visible": true
    },
    "kernelspec": {
      "name": "python3",
      "display_name": "Python 3"
    },
    "language_info": {
      "name": "python"
    }
  },
  "cells": [
    {
      "cell_type": "markdown",
      "source": [
        "#1 Técnicas de procesamiento de datos para el análisis estadístico y para la construcción de modelos\n",
        "\n",
        "###José María Ibarra a01706970"
      ],
      "metadata": {
        "id": "cFRrXyoFF8c1"
      }
    },
    {
      "cell_type": "code",
      "source": [
        "#librerías\n",
        "import pandas as pd\n",
        "import numpy as np"
      ],
      "metadata": {
        "id": "ByrXGmPeGxUN"
      },
      "execution_count": null,
      "outputs": []
    },
    {
      "cell_type": "code",
      "execution_count": null,
      "metadata": {
        "colab": {
          "base_uri": "https://localhost:8080/"
        },
        "id": "A-iyktJOF71t",
        "outputId": "e8d7aea1-f3ac-49dd-9bc0-ba6aebf5894f"
      },
      "outputs": [
        {
          "output_type": "stream",
          "name": "stdout",
          "text": [
            "/content/drive/MyDrive/ITESM/IA avanzada VII/B1 M1\n",
            "0_continuous_random_variables_a01706970.ipynb\n",
            "A01706970_Actividad_distr_muestrales.ipynb\n",
            "A01706970_Ejercicios_intervalos_pruebahip.ipynb\n",
            "A01706970_Preprocessing_clase7.ipynb\n",
            "A01706970_QQPlot_construction_actividad.ipynb\n",
            "Automobile.csv\n",
            "M1_preprocesamiento_a01706970.ipynb\n",
            "Modelo.ipynb\n"
          ]
        }
      ],
      "source": [
        "#ingresar a la ruta para carga de datos\n",
        "%cd '/content/drive/MyDrive/ITESM/IA avanzada VII/B1 M1'\n",
        "%ls"
      ]
    },
    {
      "cell_type": "code",
      "source": [
        "df = pd.read_csv('Automobile.csv') #importar datos\n",
        "df.head()"
      ],
      "metadata": {
        "colab": {
          "base_uri": "https://localhost:8080/",
          "height": 342
        },
        "id": "Yu3PzbVdGb7L",
        "outputId": "14a26c86-5d42-4e08-e1a1-265975d25dae"
      },
      "execution_count": null,
      "outputs": [
        {
          "output_type": "execute_result",
          "data": {
            "text/plain": [
              "   symboling normalized-losses         make fuel-type aspiration  \\\n",
              "0          3                 ?  alfa-romero       gas        std   \n",
              "1          3                 ?  alfa-romero       gas        std   \n",
              "2          1                 ?  alfa-romero       gas        std   \n",
              "3          2               164         audi       gas        std   \n",
              "4          2               164         audi       gas        std   \n",
              "\n",
              "  number-of-doors   body-style drive-wheels engine-location  wheel-base  ...  \\\n",
              "0             two  convertible          rwd           front        88.6  ...   \n",
              "1             two  convertible          rwd           front        88.6  ...   \n",
              "2             two    hatchback          rwd           front        94.5  ...   \n",
              "3            four        sedan          fwd           front        99.8  ...   \n",
              "4            four        sedan          4wd           front        99.4  ...   \n",
              "\n",
              "   engine-size  fuel-system  bore  stroke compression-ratio horsepower  \\\n",
              "0          130         mpfi  3.47    2.68               9.0        111   \n",
              "1          130         mpfi  3.47    2.68               9.0        111   \n",
              "2          152         mpfi  2.68    3.47               9.0        154   \n",
              "3          109         mpfi  3.19     3.4              10.0        102   \n",
              "4          136         mpfi  3.19     3.4               8.0        115   \n",
              "\n",
              "   peak-rpm city-mpg highway-mpg  price  \n",
              "0      5000       21          27  13495  \n",
              "1      5000       21          27  16500  \n",
              "2      5000       19          26  16500  \n",
              "3      5500       24          30  13950  \n",
              "4      5500       18          22  17450  \n",
              "\n",
              "[5 rows x 26 columns]"
            ],
            "text/html": [
              "\n",
              "  <div id=\"df-7325d29a-5d00-4187-b1bc-3bf01b5d2600\" class=\"colab-df-container\">\n",
              "    <div>\n",
              "<style scoped>\n",
              "    .dataframe tbody tr th:only-of-type {\n",
              "        vertical-align: middle;\n",
              "    }\n",
              "\n",
              "    .dataframe tbody tr th {\n",
              "        vertical-align: top;\n",
              "    }\n",
              "\n",
              "    .dataframe thead th {\n",
              "        text-align: right;\n",
              "    }\n",
              "</style>\n",
              "<table border=\"1\" class=\"dataframe\">\n",
              "  <thead>\n",
              "    <tr style=\"text-align: right;\">\n",
              "      <th></th>\n",
              "      <th>symboling</th>\n",
              "      <th>normalized-losses</th>\n",
              "      <th>make</th>\n",
              "      <th>fuel-type</th>\n",
              "      <th>aspiration</th>\n",
              "      <th>number-of-doors</th>\n",
              "      <th>body-style</th>\n",
              "      <th>drive-wheels</th>\n",
              "      <th>engine-location</th>\n",
              "      <th>wheel-base</th>\n",
              "      <th>...</th>\n",
              "      <th>engine-size</th>\n",
              "      <th>fuel-system</th>\n",
              "      <th>bore</th>\n",
              "      <th>stroke</th>\n",
              "      <th>compression-ratio</th>\n",
              "      <th>horsepower</th>\n",
              "      <th>peak-rpm</th>\n",
              "      <th>city-mpg</th>\n",
              "      <th>highway-mpg</th>\n",
              "      <th>price</th>\n",
              "    </tr>\n",
              "  </thead>\n",
              "  <tbody>\n",
              "    <tr>\n",
              "      <th>0</th>\n",
              "      <td>3</td>\n",
              "      <td>?</td>\n",
              "      <td>alfa-romero</td>\n",
              "      <td>gas</td>\n",
              "      <td>std</td>\n",
              "      <td>two</td>\n",
              "      <td>convertible</td>\n",
              "      <td>rwd</td>\n",
              "      <td>front</td>\n",
              "      <td>88.6</td>\n",
              "      <td>...</td>\n",
              "      <td>130</td>\n",
              "      <td>mpfi</td>\n",
              "      <td>3.47</td>\n",
              "      <td>2.68</td>\n",
              "      <td>9.0</td>\n",
              "      <td>111</td>\n",
              "      <td>5000</td>\n",
              "      <td>21</td>\n",
              "      <td>27</td>\n",
              "      <td>13495</td>\n",
              "    </tr>\n",
              "    <tr>\n",
              "      <th>1</th>\n",
              "      <td>3</td>\n",
              "      <td>?</td>\n",
              "      <td>alfa-romero</td>\n",
              "      <td>gas</td>\n",
              "      <td>std</td>\n",
              "      <td>two</td>\n",
              "      <td>convertible</td>\n",
              "      <td>rwd</td>\n",
              "      <td>front</td>\n",
              "      <td>88.6</td>\n",
              "      <td>...</td>\n",
              "      <td>130</td>\n",
              "      <td>mpfi</td>\n",
              "      <td>3.47</td>\n",
              "      <td>2.68</td>\n",
              "      <td>9.0</td>\n",
              "      <td>111</td>\n",
              "      <td>5000</td>\n",
              "      <td>21</td>\n",
              "      <td>27</td>\n",
              "      <td>16500</td>\n",
              "    </tr>\n",
              "    <tr>\n",
              "      <th>2</th>\n",
              "      <td>1</td>\n",
              "      <td>?</td>\n",
              "      <td>alfa-romero</td>\n",
              "      <td>gas</td>\n",
              "      <td>std</td>\n",
              "      <td>two</td>\n",
              "      <td>hatchback</td>\n",
              "      <td>rwd</td>\n",
              "      <td>front</td>\n",
              "      <td>94.5</td>\n",
              "      <td>...</td>\n",
              "      <td>152</td>\n",
              "      <td>mpfi</td>\n",
              "      <td>2.68</td>\n",
              "      <td>3.47</td>\n",
              "      <td>9.0</td>\n",
              "      <td>154</td>\n",
              "      <td>5000</td>\n",
              "      <td>19</td>\n",
              "      <td>26</td>\n",
              "      <td>16500</td>\n",
              "    </tr>\n",
              "    <tr>\n",
              "      <th>3</th>\n",
              "      <td>2</td>\n",
              "      <td>164</td>\n",
              "      <td>audi</td>\n",
              "      <td>gas</td>\n",
              "      <td>std</td>\n",
              "      <td>four</td>\n",
              "      <td>sedan</td>\n",
              "      <td>fwd</td>\n",
              "      <td>front</td>\n",
              "      <td>99.8</td>\n",
              "      <td>...</td>\n",
              "      <td>109</td>\n",
              "      <td>mpfi</td>\n",
              "      <td>3.19</td>\n",
              "      <td>3.4</td>\n",
              "      <td>10.0</td>\n",
              "      <td>102</td>\n",
              "      <td>5500</td>\n",
              "      <td>24</td>\n",
              "      <td>30</td>\n",
              "      <td>13950</td>\n",
              "    </tr>\n",
              "    <tr>\n",
              "      <th>4</th>\n",
              "      <td>2</td>\n",
              "      <td>164</td>\n",
              "      <td>audi</td>\n",
              "      <td>gas</td>\n",
              "      <td>std</td>\n",
              "      <td>four</td>\n",
              "      <td>sedan</td>\n",
              "      <td>4wd</td>\n",
              "      <td>front</td>\n",
              "      <td>99.4</td>\n",
              "      <td>...</td>\n",
              "      <td>136</td>\n",
              "      <td>mpfi</td>\n",
              "      <td>3.19</td>\n",
              "      <td>3.4</td>\n",
              "      <td>8.0</td>\n",
              "      <td>115</td>\n",
              "      <td>5500</td>\n",
              "      <td>18</td>\n",
              "      <td>22</td>\n",
              "      <td>17450</td>\n",
              "    </tr>\n",
              "  </tbody>\n",
              "</table>\n",
              "<p>5 rows × 26 columns</p>\n",
              "</div>\n",
              "    <div class=\"colab-df-buttons\">\n",
              "\n",
              "  <div class=\"colab-df-container\">\n",
              "    <button class=\"colab-df-convert\" onclick=\"convertToInteractive('df-7325d29a-5d00-4187-b1bc-3bf01b5d2600')\"\n",
              "            title=\"Convert this dataframe to an interactive table.\"\n",
              "            style=\"display:none;\">\n",
              "\n",
              "  <svg xmlns=\"http://www.w3.org/2000/svg\" height=\"24px\" viewBox=\"0 -960 960 960\">\n",
              "    <path d=\"M120-120v-720h720v720H120Zm60-500h600v-160H180v160Zm220 220h160v-160H400v160Zm0 220h160v-160H400v160ZM180-400h160v-160H180v160Zm440 0h160v-160H620v160ZM180-180h160v-160H180v160Zm440 0h160v-160H620v160Z\"/>\n",
              "  </svg>\n",
              "    </button>\n",
              "\n",
              "  <style>\n",
              "    .colab-df-container {\n",
              "      display:flex;\n",
              "      gap: 12px;\n",
              "    }\n",
              "\n",
              "    .colab-df-convert {\n",
              "      background-color: #E8F0FE;\n",
              "      border: none;\n",
              "      border-radius: 50%;\n",
              "      cursor: pointer;\n",
              "      display: none;\n",
              "      fill: #1967D2;\n",
              "      height: 32px;\n",
              "      padding: 0 0 0 0;\n",
              "      width: 32px;\n",
              "    }\n",
              "\n",
              "    .colab-df-convert:hover {\n",
              "      background-color: #E2EBFA;\n",
              "      box-shadow: 0px 1px 2px rgba(60, 64, 67, 0.3), 0px 1px 3px 1px rgba(60, 64, 67, 0.15);\n",
              "      fill: #174EA6;\n",
              "    }\n",
              "\n",
              "    .colab-df-buttons div {\n",
              "      margin-bottom: 4px;\n",
              "    }\n",
              "\n",
              "    [theme=dark] .colab-df-convert {\n",
              "      background-color: #3B4455;\n",
              "      fill: #D2E3FC;\n",
              "    }\n",
              "\n",
              "    [theme=dark] .colab-df-convert:hover {\n",
              "      background-color: #434B5C;\n",
              "      box-shadow: 0px 1px 3px 1px rgba(0, 0, 0, 0.15);\n",
              "      filter: drop-shadow(0px 1px 2px rgba(0, 0, 0, 0.3));\n",
              "      fill: #FFFFFF;\n",
              "    }\n",
              "  </style>\n",
              "\n",
              "    <script>\n",
              "      const buttonEl =\n",
              "        document.querySelector('#df-7325d29a-5d00-4187-b1bc-3bf01b5d2600 button.colab-df-convert');\n",
              "      buttonEl.style.display =\n",
              "        google.colab.kernel.accessAllowed ? 'block' : 'none';\n",
              "\n",
              "      async function convertToInteractive(key) {\n",
              "        const element = document.querySelector('#df-7325d29a-5d00-4187-b1bc-3bf01b5d2600');\n",
              "        const dataTable =\n",
              "          await google.colab.kernel.invokeFunction('convertToInteractive',\n",
              "                                                    [key], {});\n",
              "        if (!dataTable) return;\n",
              "\n",
              "        const docLinkHtml = 'Like what you see? Visit the ' +\n",
              "          '<a target=\"_blank\" href=https://colab.research.google.com/notebooks/data_table.ipynb>data table notebook</a>'\n",
              "          + ' to learn more about interactive tables.';\n",
              "        element.innerHTML = '';\n",
              "        dataTable['output_type'] = 'display_data';\n",
              "        await google.colab.output.renderOutput(dataTable, element);\n",
              "        const docLink = document.createElement('div');\n",
              "        docLink.innerHTML = docLinkHtml;\n",
              "        element.appendChild(docLink);\n",
              "      }\n",
              "    </script>\n",
              "  </div>\n",
              "\n",
              "\n",
              "<div id=\"df-dbf49582-2843-4ef4-86bf-10ee4991b703\">\n",
              "  <button class=\"colab-df-quickchart\" onclick=\"quickchart('df-dbf49582-2843-4ef4-86bf-10ee4991b703')\"\n",
              "            title=\"Suggest charts.\"\n",
              "            style=\"display:none;\">\n",
              "\n",
              "<svg xmlns=\"http://www.w3.org/2000/svg\" height=\"24px\"viewBox=\"0 0 24 24\"\n",
              "     width=\"24px\">\n",
              "    <g>\n",
              "        <path d=\"M19 3H5c-1.1 0-2 .9-2 2v14c0 1.1.9 2 2 2h14c1.1 0 2-.9 2-2V5c0-1.1-.9-2-2-2zM9 17H7v-7h2v7zm4 0h-2V7h2v10zm4 0h-2v-4h2v4z\"/>\n",
              "    </g>\n",
              "</svg>\n",
              "  </button>\n",
              "\n",
              "<style>\n",
              "  .colab-df-quickchart {\n",
              "      --bg-color: #E8F0FE;\n",
              "      --fill-color: #1967D2;\n",
              "      --hover-bg-color: #E2EBFA;\n",
              "      --hover-fill-color: #174EA6;\n",
              "      --disabled-fill-color: #AAA;\n",
              "      --disabled-bg-color: #DDD;\n",
              "  }\n",
              "\n",
              "  [theme=dark] .colab-df-quickchart {\n",
              "      --bg-color: #3B4455;\n",
              "      --fill-color: #D2E3FC;\n",
              "      --hover-bg-color: #434B5C;\n",
              "      --hover-fill-color: #FFFFFF;\n",
              "      --disabled-bg-color: #3B4455;\n",
              "      --disabled-fill-color: #666;\n",
              "  }\n",
              "\n",
              "  .colab-df-quickchart {\n",
              "    background-color: var(--bg-color);\n",
              "    border: none;\n",
              "    border-radius: 50%;\n",
              "    cursor: pointer;\n",
              "    display: none;\n",
              "    fill: var(--fill-color);\n",
              "    height: 32px;\n",
              "    padding: 0;\n",
              "    width: 32px;\n",
              "  }\n",
              "\n",
              "  .colab-df-quickchart:hover {\n",
              "    background-color: var(--hover-bg-color);\n",
              "    box-shadow: 0 1px 2px rgba(60, 64, 67, 0.3), 0 1px 3px 1px rgba(60, 64, 67, 0.15);\n",
              "    fill: var(--button-hover-fill-color);\n",
              "  }\n",
              "\n",
              "  .colab-df-quickchart-complete:disabled,\n",
              "  .colab-df-quickchart-complete:disabled:hover {\n",
              "    background-color: var(--disabled-bg-color);\n",
              "    fill: var(--disabled-fill-color);\n",
              "    box-shadow: none;\n",
              "  }\n",
              "\n",
              "  .colab-df-spinner {\n",
              "    border: 2px solid var(--fill-color);\n",
              "    border-color: transparent;\n",
              "    border-bottom-color: var(--fill-color);\n",
              "    animation:\n",
              "      spin 1s steps(1) infinite;\n",
              "  }\n",
              "\n",
              "  @keyframes spin {\n",
              "    0% {\n",
              "      border-color: transparent;\n",
              "      border-bottom-color: var(--fill-color);\n",
              "      border-left-color: var(--fill-color);\n",
              "    }\n",
              "    20% {\n",
              "      border-color: transparent;\n",
              "      border-left-color: var(--fill-color);\n",
              "      border-top-color: var(--fill-color);\n",
              "    }\n",
              "    30% {\n",
              "      border-color: transparent;\n",
              "      border-left-color: var(--fill-color);\n",
              "      border-top-color: var(--fill-color);\n",
              "      border-right-color: var(--fill-color);\n",
              "    }\n",
              "    40% {\n",
              "      border-color: transparent;\n",
              "      border-right-color: var(--fill-color);\n",
              "      border-top-color: var(--fill-color);\n",
              "    }\n",
              "    60% {\n",
              "      border-color: transparent;\n",
              "      border-right-color: var(--fill-color);\n",
              "    }\n",
              "    80% {\n",
              "      border-color: transparent;\n",
              "      border-right-color: var(--fill-color);\n",
              "      border-bottom-color: var(--fill-color);\n",
              "    }\n",
              "    90% {\n",
              "      border-color: transparent;\n",
              "      border-bottom-color: var(--fill-color);\n",
              "    }\n",
              "  }\n",
              "</style>\n",
              "\n",
              "  <script>\n",
              "    async function quickchart(key) {\n",
              "      const quickchartButtonEl =\n",
              "        document.querySelector('#' + key + ' button');\n",
              "      quickchartButtonEl.disabled = true;  // To prevent multiple clicks.\n",
              "      quickchartButtonEl.classList.add('colab-df-spinner');\n",
              "      try {\n",
              "        const charts = await google.colab.kernel.invokeFunction(\n",
              "            'suggestCharts', [key], {});\n",
              "      } catch (error) {\n",
              "        console.error('Error during call to suggestCharts:', error);\n",
              "      }\n",
              "      quickchartButtonEl.classList.remove('colab-df-spinner');\n",
              "      quickchartButtonEl.classList.add('colab-df-quickchart-complete');\n",
              "    }\n",
              "    (() => {\n",
              "      let quickchartButtonEl =\n",
              "        document.querySelector('#df-dbf49582-2843-4ef4-86bf-10ee4991b703 button');\n",
              "      quickchartButtonEl.style.display =\n",
              "        google.colab.kernel.accessAllowed ? 'block' : 'none';\n",
              "    })();\n",
              "  </script>\n",
              "</div>\n",
              "    </div>\n",
              "  </div>\n"
            ]
          },
          "metadata": {},
          "execution_count": 120
        }
      ]
    },
    {
      "cell_type": "code",
      "source": [
        "df.shape"
      ],
      "metadata": {
        "colab": {
          "base_uri": "https://localhost:8080/"
        },
        "id": "wIUzd0aDPJXH",
        "outputId": "789d1341-6e30-47ba-d955-6cb24db17e7d"
      },
      "execution_count": null,
      "outputs": [
        {
          "output_type": "execute_result",
          "data": {
            "text/plain": [
              "(205, 26)"
            ]
          },
          "metadata": {},
          "execution_count": 121
        }
      ]
    },
    {
      "cell_type": "markdown",
      "source": [
        "##Tipos de datos"
      ],
      "metadata": {
        "id": "S7o1A94iPngZ"
      }
    },
    {
      "cell_type": "code",
      "source": [
        "df.info() #info de los datos"
      ],
      "metadata": {
        "colab": {
          "base_uri": "https://localhost:8080/"
        },
        "id": "TSwpao3kG4la",
        "outputId": "05ca44d5-4412-4554-fef2-c6e392548a58"
      },
      "execution_count": null,
      "outputs": [
        {
          "output_type": "stream",
          "name": "stdout",
          "text": [
            "<class 'pandas.core.frame.DataFrame'>\n",
            "RangeIndex: 205 entries, 0 to 204\n",
            "Data columns (total 26 columns):\n",
            " #   Column             Non-Null Count  Dtype  \n",
            "---  ------             --------------  -----  \n",
            " 0   symboling          205 non-null    int64  \n",
            " 1   normalized-losses  205 non-null    object \n",
            " 2   make               205 non-null    object \n",
            " 3   fuel-type          205 non-null    object \n",
            " 4   aspiration         205 non-null    object \n",
            " 5   number-of-doors    205 non-null    object \n",
            " 6   body-style         205 non-null    object \n",
            " 7   drive-wheels       205 non-null    object \n",
            " 8   engine-location    205 non-null    object \n",
            " 9   wheel-base         205 non-null    float64\n",
            " 10  length             205 non-null    float64\n",
            " 11  width              205 non-null    float64\n",
            " 12  height             205 non-null    float64\n",
            " 13  curb-weight        205 non-null    int64  \n",
            " 14  engine-type        205 non-null    object \n",
            " 15  num-of-cylinders   205 non-null    object \n",
            " 16  engine-size        205 non-null    int64  \n",
            " 17  fuel-system        205 non-null    object \n",
            " 18  bore               205 non-null    object \n",
            " 19  stroke             205 non-null    object \n",
            " 20  compression-ratio  205 non-null    float64\n",
            " 21  horsepower         205 non-null    object \n",
            " 22  peak-rpm           205 non-null    object \n",
            " 23  city-mpg           205 non-null    int64  \n",
            " 24  highway-mpg        205 non-null    int64  \n",
            " 25  price              205 non-null    object \n",
            "dtypes: float64(5), int64(5), object(16)\n",
            "memory usage: 41.8+ KB\n"
          ]
        }
      ]
    },
    {
      "cell_type": "code",
      "source": [
        "df.describe() #descripción de los datos"
      ],
      "metadata": {
        "colab": {
          "base_uri": "https://localhost:8080/",
          "height": 300
        },
        "id": "pmW1BItNLLR7",
        "outputId": "52741c16-0f32-4a34-f4c4-43401e06f26e"
      },
      "execution_count": null,
      "outputs": [
        {
          "output_type": "execute_result",
          "data": {
            "text/plain": [
              "        symboling  wheel-base      length       width      height  \\\n",
              "count  205.000000  205.000000  205.000000  205.000000  205.000000   \n",
              "mean     0.834146   98.756585  174.049268   65.907805   53.724878   \n",
              "std      1.245307    6.021776   12.337289    2.145204    2.443522   \n",
              "min     -2.000000   86.600000  141.100000   60.300000   47.800000   \n",
              "25%      0.000000   94.500000  166.300000   64.100000   52.000000   \n",
              "50%      1.000000   97.000000  173.200000   65.500000   54.100000   \n",
              "75%      2.000000  102.400000  183.100000   66.900000   55.500000   \n",
              "max      3.000000  120.900000  208.100000   72.300000   59.800000   \n",
              "\n",
              "       curb-weight  engine-size  compression-ratio    city-mpg  highway-mpg  \n",
              "count   205.000000   205.000000         205.000000  205.000000   205.000000  \n",
              "mean   2555.565854   126.907317          10.142537   25.219512    30.751220  \n",
              "std     520.680204    41.642693           3.972040    6.542142     6.886443  \n",
              "min    1488.000000    61.000000           7.000000   13.000000    16.000000  \n",
              "25%    2145.000000    97.000000           8.600000   19.000000    25.000000  \n",
              "50%    2414.000000   120.000000           9.000000   24.000000    30.000000  \n",
              "75%    2935.000000   141.000000           9.400000   30.000000    34.000000  \n",
              "max    4066.000000   326.000000          23.000000   49.000000    54.000000  "
            ],
            "text/html": [
              "\n",
              "  <div id=\"df-b7d27c4c-27d6-45f6-8ad6-17c58eebc0be\" class=\"colab-df-container\">\n",
              "    <div>\n",
              "<style scoped>\n",
              "    .dataframe tbody tr th:only-of-type {\n",
              "        vertical-align: middle;\n",
              "    }\n",
              "\n",
              "    .dataframe tbody tr th {\n",
              "        vertical-align: top;\n",
              "    }\n",
              "\n",
              "    .dataframe thead th {\n",
              "        text-align: right;\n",
              "    }\n",
              "</style>\n",
              "<table border=\"1\" class=\"dataframe\">\n",
              "  <thead>\n",
              "    <tr style=\"text-align: right;\">\n",
              "      <th></th>\n",
              "      <th>symboling</th>\n",
              "      <th>wheel-base</th>\n",
              "      <th>length</th>\n",
              "      <th>width</th>\n",
              "      <th>height</th>\n",
              "      <th>curb-weight</th>\n",
              "      <th>engine-size</th>\n",
              "      <th>compression-ratio</th>\n",
              "      <th>city-mpg</th>\n",
              "      <th>highway-mpg</th>\n",
              "    </tr>\n",
              "  </thead>\n",
              "  <tbody>\n",
              "    <tr>\n",
              "      <th>count</th>\n",
              "      <td>205.000000</td>\n",
              "      <td>205.000000</td>\n",
              "      <td>205.000000</td>\n",
              "      <td>205.000000</td>\n",
              "      <td>205.000000</td>\n",
              "      <td>205.000000</td>\n",
              "      <td>205.000000</td>\n",
              "      <td>205.000000</td>\n",
              "      <td>205.000000</td>\n",
              "      <td>205.000000</td>\n",
              "    </tr>\n",
              "    <tr>\n",
              "      <th>mean</th>\n",
              "      <td>0.834146</td>\n",
              "      <td>98.756585</td>\n",
              "      <td>174.049268</td>\n",
              "      <td>65.907805</td>\n",
              "      <td>53.724878</td>\n",
              "      <td>2555.565854</td>\n",
              "      <td>126.907317</td>\n",
              "      <td>10.142537</td>\n",
              "      <td>25.219512</td>\n",
              "      <td>30.751220</td>\n",
              "    </tr>\n",
              "    <tr>\n",
              "      <th>std</th>\n",
              "      <td>1.245307</td>\n",
              "      <td>6.021776</td>\n",
              "      <td>12.337289</td>\n",
              "      <td>2.145204</td>\n",
              "      <td>2.443522</td>\n",
              "      <td>520.680204</td>\n",
              "      <td>41.642693</td>\n",
              "      <td>3.972040</td>\n",
              "      <td>6.542142</td>\n",
              "      <td>6.886443</td>\n",
              "    </tr>\n",
              "    <tr>\n",
              "      <th>min</th>\n",
              "      <td>-2.000000</td>\n",
              "      <td>86.600000</td>\n",
              "      <td>141.100000</td>\n",
              "      <td>60.300000</td>\n",
              "      <td>47.800000</td>\n",
              "      <td>1488.000000</td>\n",
              "      <td>61.000000</td>\n",
              "      <td>7.000000</td>\n",
              "      <td>13.000000</td>\n",
              "      <td>16.000000</td>\n",
              "    </tr>\n",
              "    <tr>\n",
              "      <th>25%</th>\n",
              "      <td>0.000000</td>\n",
              "      <td>94.500000</td>\n",
              "      <td>166.300000</td>\n",
              "      <td>64.100000</td>\n",
              "      <td>52.000000</td>\n",
              "      <td>2145.000000</td>\n",
              "      <td>97.000000</td>\n",
              "      <td>8.600000</td>\n",
              "      <td>19.000000</td>\n",
              "      <td>25.000000</td>\n",
              "    </tr>\n",
              "    <tr>\n",
              "      <th>50%</th>\n",
              "      <td>1.000000</td>\n",
              "      <td>97.000000</td>\n",
              "      <td>173.200000</td>\n",
              "      <td>65.500000</td>\n",
              "      <td>54.100000</td>\n",
              "      <td>2414.000000</td>\n",
              "      <td>120.000000</td>\n",
              "      <td>9.000000</td>\n",
              "      <td>24.000000</td>\n",
              "      <td>30.000000</td>\n",
              "    </tr>\n",
              "    <tr>\n",
              "      <th>75%</th>\n",
              "      <td>2.000000</td>\n",
              "      <td>102.400000</td>\n",
              "      <td>183.100000</td>\n",
              "      <td>66.900000</td>\n",
              "      <td>55.500000</td>\n",
              "      <td>2935.000000</td>\n",
              "      <td>141.000000</td>\n",
              "      <td>9.400000</td>\n",
              "      <td>30.000000</td>\n",
              "      <td>34.000000</td>\n",
              "    </tr>\n",
              "    <tr>\n",
              "      <th>max</th>\n",
              "      <td>3.000000</td>\n",
              "      <td>120.900000</td>\n",
              "      <td>208.100000</td>\n",
              "      <td>72.300000</td>\n",
              "      <td>59.800000</td>\n",
              "      <td>4066.000000</td>\n",
              "      <td>326.000000</td>\n",
              "      <td>23.000000</td>\n",
              "      <td>49.000000</td>\n",
              "      <td>54.000000</td>\n",
              "    </tr>\n",
              "  </tbody>\n",
              "</table>\n",
              "</div>\n",
              "    <div class=\"colab-df-buttons\">\n",
              "\n",
              "  <div class=\"colab-df-container\">\n",
              "    <button class=\"colab-df-convert\" onclick=\"convertToInteractive('df-b7d27c4c-27d6-45f6-8ad6-17c58eebc0be')\"\n",
              "            title=\"Convert this dataframe to an interactive table.\"\n",
              "            style=\"display:none;\">\n",
              "\n",
              "  <svg xmlns=\"http://www.w3.org/2000/svg\" height=\"24px\" viewBox=\"0 -960 960 960\">\n",
              "    <path d=\"M120-120v-720h720v720H120Zm60-500h600v-160H180v160Zm220 220h160v-160H400v160Zm0 220h160v-160H400v160ZM180-400h160v-160H180v160Zm440 0h160v-160H620v160ZM180-180h160v-160H180v160Zm440 0h160v-160H620v160Z\"/>\n",
              "  </svg>\n",
              "    </button>\n",
              "\n",
              "  <style>\n",
              "    .colab-df-container {\n",
              "      display:flex;\n",
              "      gap: 12px;\n",
              "    }\n",
              "\n",
              "    .colab-df-convert {\n",
              "      background-color: #E8F0FE;\n",
              "      border: none;\n",
              "      border-radius: 50%;\n",
              "      cursor: pointer;\n",
              "      display: none;\n",
              "      fill: #1967D2;\n",
              "      height: 32px;\n",
              "      padding: 0 0 0 0;\n",
              "      width: 32px;\n",
              "    }\n",
              "\n",
              "    .colab-df-convert:hover {\n",
              "      background-color: #E2EBFA;\n",
              "      box-shadow: 0px 1px 2px rgba(60, 64, 67, 0.3), 0px 1px 3px 1px rgba(60, 64, 67, 0.15);\n",
              "      fill: #174EA6;\n",
              "    }\n",
              "\n",
              "    .colab-df-buttons div {\n",
              "      margin-bottom: 4px;\n",
              "    }\n",
              "\n",
              "    [theme=dark] .colab-df-convert {\n",
              "      background-color: #3B4455;\n",
              "      fill: #D2E3FC;\n",
              "    }\n",
              "\n",
              "    [theme=dark] .colab-df-convert:hover {\n",
              "      background-color: #434B5C;\n",
              "      box-shadow: 0px 1px 3px 1px rgba(0, 0, 0, 0.15);\n",
              "      filter: drop-shadow(0px 1px 2px rgba(0, 0, 0, 0.3));\n",
              "      fill: #FFFFFF;\n",
              "    }\n",
              "  </style>\n",
              "\n",
              "    <script>\n",
              "      const buttonEl =\n",
              "        document.querySelector('#df-b7d27c4c-27d6-45f6-8ad6-17c58eebc0be button.colab-df-convert');\n",
              "      buttonEl.style.display =\n",
              "        google.colab.kernel.accessAllowed ? 'block' : 'none';\n",
              "\n",
              "      async function convertToInteractive(key) {\n",
              "        const element = document.querySelector('#df-b7d27c4c-27d6-45f6-8ad6-17c58eebc0be');\n",
              "        const dataTable =\n",
              "          await google.colab.kernel.invokeFunction('convertToInteractive',\n",
              "                                                    [key], {});\n",
              "        if (!dataTable) return;\n",
              "\n",
              "        const docLinkHtml = 'Like what you see? Visit the ' +\n",
              "          '<a target=\"_blank\" href=https://colab.research.google.com/notebooks/data_table.ipynb>data table notebook</a>'\n",
              "          + ' to learn more about interactive tables.';\n",
              "        element.innerHTML = '';\n",
              "        dataTable['output_type'] = 'display_data';\n",
              "        await google.colab.output.renderOutput(dataTable, element);\n",
              "        const docLink = document.createElement('div');\n",
              "        docLink.innerHTML = docLinkHtml;\n",
              "        element.appendChild(docLink);\n",
              "      }\n",
              "    </script>\n",
              "  </div>\n",
              "\n",
              "\n",
              "<div id=\"df-a985cf11-136d-4d70-ba4f-e76f50bc853e\">\n",
              "  <button class=\"colab-df-quickchart\" onclick=\"quickchart('df-a985cf11-136d-4d70-ba4f-e76f50bc853e')\"\n",
              "            title=\"Suggest charts.\"\n",
              "            style=\"display:none;\">\n",
              "\n",
              "<svg xmlns=\"http://www.w3.org/2000/svg\" height=\"24px\"viewBox=\"0 0 24 24\"\n",
              "     width=\"24px\">\n",
              "    <g>\n",
              "        <path d=\"M19 3H5c-1.1 0-2 .9-2 2v14c0 1.1.9 2 2 2h14c1.1 0 2-.9 2-2V5c0-1.1-.9-2-2-2zM9 17H7v-7h2v7zm4 0h-2V7h2v10zm4 0h-2v-4h2v4z\"/>\n",
              "    </g>\n",
              "</svg>\n",
              "  </button>\n",
              "\n",
              "<style>\n",
              "  .colab-df-quickchart {\n",
              "      --bg-color: #E8F0FE;\n",
              "      --fill-color: #1967D2;\n",
              "      --hover-bg-color: #E2EBFA;\n",
              "      --hover-fill-color: #174EA6;\n",
              "      --disabled-fill-color: #AAA;\n",
              "      --disabled-bg-color: #DDD;\n",
              "  }\n",
              "\n",
              "  [theme=dark] .colab-df-quickchart {\n",
              "      --bg-color: #3B4455;\n",
              "      --fill-color: #D2E3FC;\n",
              "      --hover-bg-color: #434B5C;\n",
              "      --hover-fill-color: #FFFFFF;\n",
              "      --disabled-bg-color: #3B4455;\n",
              "      --disabled-fill-color: #666;\n",
              "  }\n",
              "\n",
              "  .colab-df-quickchart {\n",
              "    background-color: var(--bg-color);\n",
              "    border: none;\n",
              "    border-radius: 50%;\n",
              "    cursor: pointer;\n",
              "    display: none;\n",
              "    fill: var(--fill-color);\n",
              "    height: 32px;\n",
              "    padding: 0;\n",
              "    width: 32px;\n",
              "  }\n",
              "\n",
              "  .colab-df-quickchart:hover {\n",
              "    background-color: var(--hover-bg-color);\n",
              "    box-shadow: 0 1px 2px rgba(60, 64, 67, 0.3), 0 1px 3px 1px rgba(60, 64, 67, 0.15);\n",
              "    fill: var(--button-hover-fill-color);\n",
              "  }\n",
              "\n",
              "  .colab-df-quickchart-complete:disabled,\n",
              "  .colab-df-quickchart-complete:disabled:hover {\n",
              "    background-color: var(--disabled-bg-color);\n",
              "    fill: var(--disabled-fill-color);\n",
              "    box-shadow: none;\n",
              "  }\n",
              "\n",
              "  .colab-df-spinner {\n",
              "    border: 2px solid var(--fill-color);\n",
              "    border-color: transparent;\n",
              "    border-bottom-color: var(--fill-color);\n",
              "    animation:\n",
              "      spin 1s steps(1) infinite;\n",
              "  }\n",
              "\n",
              "  @keyframes spin {\n",
              "    0% {\n",
              "      border-color: transparent;\n",
              "      border-bottom-color: var(--fill-color);\n",
              "      border-left-color: var(--fill-color);\n",
              "    }\n",
              "    20% {\n",
              "      border-color: transparent;\n",
              "      border-left-color: var(--fill-color);\n",
              "      border-top-color: var(--fill-color);\n",
              "    }\n",
              "    30% {\n",
              "      border-color: transparent;\n",
              "      border-left-color: var(--fill-color);\n",
              "      border-top-color: var(--fill-color);\n",
              "      border-right-color: var(--fill-color);\n",
              "    }\n",
              "    40% {\n",
              "      border-color: transparent;\n",
              "      border-right-color: var(--fill-color);\n",
              "      border-top-color: var(--fill-color);\n",
              "    }\n",
              "    60% {\n",
              "      border-color: transparent;\n",
              "      border-right-color: var(--fill-color);\n",
              "    }\n",
              "    80% {\n",
              "      border-color: transparent;\n",
              "      border-right-color: var(--fill-color);\n",
              "      border-bottom-color: var(--fill-color);\n",
              "    }\n",
              "    90% {\n",
              "      border-color: transparent;\n",
              "      border-bottom-color: var(--fill-color);\n",
              "    }\n",
              "  }\n",
              "</style>\n",
              "\n",
              "  <script>\n",
              "    async function quickchart(key) {\n",
              "      const quickchartButtonEl =\n",
              "        document.querySelector('#' + key + ' button');\n",
              "      quickchartButtonEl.disabled = true;  // To prevent multiple clicks.\n",
              "      quickchartButtonEl.classList.add('colab-df-spinner');\n",
              "      try {\n",
              "        const charts = await google.colab.kernel.invokeFunction(\n",
              "            'suggestCharts', [key], {});\n",
              "      } catch (error) {\n",
              "        console.error('Error during call to suggestCharts:', error);\n",
              "      }\n",
              "      quickchartButtonEl.classList.remove('colab-df-spinner');\n",
              "      quickchartButtonEl.classList.add('colab-df-quickchart-complete');\n",
              "    }\n",
              "    (() => {\n",
              "      let quickchartButtonEl =\n",
              "        document.querySelector('#df-a985cf11-136d-4d70-ba4f-e76f50bc853e button');\n",
              "      quickchartButtonEl.style.display =\n",
              "        google.colab.kernel.accessAllowed ? 'block' : 'none';\n",
              "    })();\n",
              "  </script>\n",
              "</div>\n",
              "    </div>\n",
              "  </div>\n"
            ]
          },
          "metadata": {},
          "execution_count": 123
        }
      ]
    },
    {
      "cell_type": "markdown",
      "source": [
        "##Distribución de variables"
      ],
      "metadata": {
        "id": "9xW5L18iPq_F"
      }
    },
    {
      "cell_type": "code",
      "source": [
        "#histogramas\n",
        "df.hist(figsize=(10,8));"
      ],
      "metadata": {
        "colab": {
          "base_uri": "https://localhost:8080/",
          "height": 699
        },
        "id": "gRO8iCjjLekl",
        "outputId": "857da1b0-59b4-4ea9-f4e7-b3f453a1212e"
      },
      "execution_count": null,
      "outputs": [
        {
          "output_type": "display_data",
          "data": {
            "text/plain": [
              "<Figure size 1000x800 with 12 Axes>"
            ],
            "image/png": "[encoded data removed]"
          },
          "metadata": {}
        }
      ]
    },
    {
      "cell_type": "markdown",
      "source": [
        "##Valores nulos"
      ],
      "metadata": {
        "id": "adLH25MtPwlz"
      }
    },
    {
      "cell_type": "code",
      "source": [
        "df.isna().sum() #verificar valores nulos"
      ],
      "metadata": {
        "colab": {
          "base_uri": "https://localhost:8080/"
        },
        "id": "ooJ2xFyhG7nE",
        "outputId": "434f4239-816d-476a-825d-0a6ff6b87502"
      },
      "execution_count": null,
      "outputs": [
        {
          "output_type": "execute_result",
          "data": {
            "text/plain": [
              "symboling            0\n",
              "normalized-losses    0\n",
              "make                 0\n",
              "fuel-type            0\n",
              "aspiration           0\n",
              "number-of-doors      0\n",
              "body-style           0\n",
              "drive-wheels         0\n",
              "engine-location      0\n",
              "wheel-base           0\n",
              "length               0\n",
              "width                0\n",
              "height               0\n",
              "curb-weight          0\n",
              "engine-type          0\n",
              "num-of-cylinders     0\n",
              "engine-size          0\n",
              "fuel-system          0\n",
              "bore                 0\n",
              "stroke               0\n",
              "compression-ratio    0\n",
              "horsepower           0\n",
              "peak-rpm             0\n",
              "city-mpg             0\n",
              "highway-mpg          0\n",
              "price                0\n",
              "dtype: int64"
            ]
          },
          "metadata": {},
          "execution_count": 125
        }
      ]
    },
    {
      "cell_type": "markdown",
      "source": [
        "No hay valores reconocidos como nulos, sin embargo, sí hay mediciones faltantes representadas como '?'"
      ],
      "metadata": {
        "id": "d9FycEy9ZECw"
      }
    },
    {
      "cell_type": "code",
      "source": [
        "value = '?'\n",
        "for column in df.columns: #Revisar valores '?' (nulos) en los datos\n",
        "  if any(value == x for x in df[column]):\n",
        "    print(column)"
      ],
      "metadata": {
        "colab": {
          "base_uri": "https://localhost:8080/"
        },
        "id": "b3uLaJk8HLaI",
        "outputId": "e6a51d36-abe8-4802-a5c0-771e4731ed2c"
      },
      "execution_count": null,
      "outputs": [
        {
          "output_type": "stream",
          "name": "stdout",
          "text": [
            "normalized-losses\n",
            "number-of-doors\n",
            "bore\n",
            "stroke\n",
            "horsepower\n",
            "peak-rpm\n",
            "price\n"
          ]
        }
      ]
    },
    {
      "cell_type": "code",
      "source": [
        "df.replace('?', np.nan, inplace=True)"
      ],
      "metadata": {
        "id": "vwRLD5NTIW2m"
      },
      "execution_count": null,
      "outputs": []
    },
    {
      "cell_type": "code",
      "source": [
        "df.head()"
      ],
      "metadata": {
        "colab": {
          "base_uri": "https://localhost:8080/",
          "height": 342
        },
        "id": "EQSYMt4qQot8",
        "outputId": "49497377-c8dc-42e3-8b17-1c16ff5ee7bd"
      },
      "execution_count": null,
      "outputs": [
        {
          "output_type": "execute_result",
          "data": {
            "text/plain": [
              "   symboling normalized-losses         make fuel-type aspiration  \\\n",
              "0          3               NaN  alfa-romero       gas        std   \n",
              "1          3               NaN  alfa-romero       gas        std   \n",
              "2          1               NaN  alfa-romero       gas        std   \n",
              "3          2               164         audi       gas        std   \n",
              "4          2               164         audi       gas        std   \n",
              "\n",
              "  number-of-doors   body-style drive-wheels engine-location  wheel-base  ...  \\\n",
              "0             two  convertible          rwd           front        88.6  ...   \n",
              "1             two  convertible          rwd           front        88.6  ...   \n",
              "2             two    hatchback          rwd           front        94.5  ...   \n",
              "3            four        sedan          fwd           front        99.8  ...   \n",
              "4            four        sedan          4wd           front        99.4  ...   \n",
              "\n",
              "   engine-size  fuel-system  bore  stroke compression-ratio horsepower  \\\n",
              "0          130         mpfi  3.47    2.68               9.0        111   \n",
              "1          130         mpfi  3.47    2.68               9.0        111   \n",
              "2          152         mpfi  2.68    3.47               9.0        154   \n",
              "3          109         mpfi  3.19     3.4              10.0        102   \n",
              "4          136         mpfi  3.19     3.4               8.0        115   \n",
              "\n",
              "   peak-rpm city-mpg highway-mpg  price  \n",
              "0      5000       21          27  13495  \n",
              "1      5000       21          27  16500  \n",
              "2      5000       19          26  16500  \n",
              "3      5500       24          30  13950  \n",
              "4      5500       18          22  17450  \n",
              "\n",
              "[5 rows x 26 columns]"
            ],
            "text/html": [
              "\n",
              "  <div id=\"df-ed700f4d-ec01-4c2d-b742-7d4a9d81b0c8\" class=\"colab-df-container\">\n",
              "    <div>\n",
              "<style scoped>\n",
              "    .dataframe tbody tr th:only-of-type {\n",
              "        vertical-align: middle;\n",
              "    }\n",
              "\n",
              "    .dataframe tbody tr th {\n",
              "        vertical-align: top;\n",
              "    }\n",
              "\n",
              "    .dataframe thead th {\n",
              "        text-align: right;\n",
              "    }\n",
              "</style>\n",
              "<table border=\"1\" class=\"dataframe\">\n",
              "  <thead>\n",
              "    <tr style=\"text-align: right;\">\n",
              "      <th></th>\n",
              "      <th>symboling</th>\n",
              "      <th>normalized-losses</th>\n",
              "      <th>make</th>\n",
              "      <th>fuel-type</th>\n",
              "      <th>aspiration</th>\n",
              "      <th>number-of-doors</th>\n",
              "      <th>body-style</th>\n",
              "      <th>drive-wheels</th>\n",
              "      <th>engine-location</th>\n",
              "      <th>wheel-base</th>\n",
              "      <th>...</th>\n",
              "      <th>engine-size</th>\n",
              "      <th>fuel-system</th>\n",
              "      <th>bore</th>\n",
              "      <th>stroke</th>\n",
              "      <th>compression-ratio</th>\n",
              "      <th>horsepower</th>\n",
              "      <th>peak-rpm</th>\n",
              "      <th>city-mpg</th>\n",
              "      <th>highway-mpg</th>\n",
              "      <th>price</th>\n",
              "    </tr>\n",
              "  </thead>\n",
              "  <tbody>\n",
              "    <tr>\n",
              "      <th>0</th>\n",
              "      <td>3</td>\n",
              "      <td>NaN</td>\n",
              "      <td>alfa-romero</td>\n",
              "      <td>gas</td>\n",
              "      <td>std</td>\n",
              "      <td>two</td>\n",
              "      <td>convertible</td>\n",
              "      <td>rwd</td>\n",
              "      <td>front</td>\n",
              "      <td>88.6</td>\n",
              "      <td>...</td>\n",
              "      <td>130</td>\n",
              "      <td>mpfi</td>\n",
              "      <td>3.47</td>\n",
              "      <td>2.68</td>\n",
              "      <td>9.0</td>\n",
              "      <td>111</td>\n",
              "      <td>5000</td>\n",
              "      <td>21</td>\n",
              "      <td>27</td>\n",
              "      <td>13495</td>\n",
              "    </tr>\n",
              "    <tr>\n",
              "      <th>1</th>\n",
              "      <td>3</td>\n",
              "      <td>NaN</td>\n",
              "      <td>alfa-romero</td>\n",
              "      <td>gas</td>\n",
              "      <td>std</td>\n",
              "      <td>two</td>\n",
              "      <td>convertible</td>\n",
              "      <td>rwd</td>\n",
              "      <td>front</td>\n",
              "      <td>88.6</td>\n",
              "      <td>...</td>\n",
              "      <td>130</td>\n",
              "      <td>mpfi</td>\n",
              "      <td>3.47</td>\n",
              "      <td>2.68</td>\n",
              "      <td>9.0</td>\n",
              "      <td>111</td>\n",
              "      <td>5000</td>\n",
              "      <td>21</td>\n",
              "      <td>27</td>\n",
              "      <td>16500</td>\n",
              "    </tr>\n",
              "    <tr>\n",
              "      <th>2</th>\n",
              "      <td>1</td>\n",
              "      <td>NaN</td>\n",
              "      <td>alfa-romero</td>\n",
              "      <td>gas</td>\n",
              "      <td>std</td>\n",
              "      <td>two</td>\n",
              "      <td>hatchback</td>\n",
              "      <td>rwd</td>\n",
              "      <td>front</td>\n",
              "      <td>94.5</td>\n",
              "      <td>...</td>\n",
              "      <td>152</td>\n",
              "      <td>mpfi</td>\n",
              "      <td>2.68</td>\n",
              "      <td>3.47</td>\n",
              "      <td>9.0</td>\n",
              "      <td>154</td>\n",
              "      <td>5000</td>\n",
              "      <td>19</td>\n",
              "      <td>26</td>\n",
              "      <td>16500</td>\n",
              "    </tr>\n",
              "    <tr>\n",
              "      <th>3</th>\n",
              "      <td>2</td>\n",
              "      <td>164</td>\n",
              "      <td>audi</td>\n",
              "      <td>gas</td>\n",
              "      <td>std</td>\n",
              "      <td>four</td>\n",
              "      <td>sedan</td>\n",
              "      <td>fwd</td>\n",
              "      <td>front</td>\n",
              "      <td>99.8</td>\n",
              "      <td>...</td>\n",
              "      <td>109</td>\n",
              "      <td>mpfi</td>\n",
              "      <td>3.19</td>\n",
              "      <td>3.4</td>\n",
              "      <td>10.0</td>\n",
              "      <td>102</td>\n",
              "      <td>5500</td>\n",
              "      <td>24</td>\n",
              "      <td>30</td>\n",
              "      <td>13950</td>\n",
              "    </tr>\n",
              "    <tr>\n",
              "      <th>4</th>\n",
              "      <td>2</td>\n",
              "      <td>164</td>\n",
              "      <td>audi</td>\n",
              "      <td>gas</td>\n",
              "      <td>std</td>\n",
              "      <td>four</td>\n",
              "      <td>sedan</td>\n",
              "      <td>4wd</td>\n",
              "      <td>front</td>\n",
              "      <td>99.4</td>\n",
              "      <td>...</td>\n",
              "      <td>136</td>\n",
              "      <td>mpfi</td>\n",
              "      <td>3.19</td>\n",
              "      <td>3.4</td>\n",
              "      <td>8.0</td>\n",
              "      <td>115</td>\n",
              "      <td>5500</td>\n",
              "      <td>18</td>\n",
              "      <td>22</td>\n",
              "      <td>17450</td>\n",
              "    </tr>\n",
              "  </tbody>\n",
              "</table>\n",
              "<p>5 rows × 26 columns</p>\n",
              "</div>\n",
              "    <div class=\"colab-df-buttons\">\n",
              "\n",
              "  <div class=\"colab-df-container\">\n",
              "    <button class=\"colab-df-convert\" onclick=\"convertToInteractive('df-ed700f4d-ec01-4c2d-b742-7d4a9d81b0c8')\"\n",
              "            title=\"Convert this dataframe to an interactive table.\"\n",
              "            style=\"display:none;\">\n",
              "\n",
              "  <svg xmlns=\"http://www.w3.org/2000/svg\" height=\"24px\" viewBox=\"0 -960 960 960\">\n",
              "    <path d=\"M120-120v-720h720v720H120Zm60-500h600v-160H180v160Zm220 220h160v-160H400v160Zm0 220h160v-160H400v160ZM180-400h160v-160H180v160Zm440 0h160v-160H620v160ZM180-180h160v-160H180v160Zm440 0h160v-160H620v160Z\"/>\n",
              "  </svg>\n",
              "    </button>\n",
              "\n",
              "  <style>\n",
              "    .colab-df-container {\n",
              "      display:flex;\n",
              "      gap: 12px;\n",
              "    }\n",
              "\n",
              "    .colab-df-convert {\n",
              "      background-color: #E8F0FE;\n",
              "      border: none;\n",
              "      border-radius: 50%;\n",
              "      cursor: pointer;\n",
              "      display: none;\n",
              "      fill: #1967D2;\n",
              "      height: 32px;\n",
              "      padding: 0 0 0 0;\n",
              "      width: 32px;\n",
              "    }\n",
              "\n",
              "    .colab-df-convert:hover {\n",
              "      background-color: #E2EBFA;\n",
              "      box-shadow: 0px 1px 2px rgba(60, 64, 67, 0.3), 0px 1px 3px 1px rgba(60, 64, 67, 0.15);\n",
              "      fill: #174EA6;\n",
              "    }\n",
              "\n",
              "    .colab-df-buttons div {\n",
              "      margin-bottom: 4px;\n",
              "    }\n",
              "\n",
              "    [theme=dark] .colab-df-convert {\n",
              "      background-color: #3B4455;\n",
              "      fill: #D2E3FC;\n",
              "    }\n",
              "\n",
              "    [theme=dark] .colab-df-convert:hover {\n",
              "      background-color: #434B5C;\n",
              "      box-shadow: 0px 1px 3px 1px rgba(0, 0, 0, 0.15);\n",
              "      filter: drop-shadow(0px 1px 2px rgba(0, 0, 0, 0.3));\n",
              "      fill: #FFFFFF;\n",
              "    }\n",
              "  </style>\n",
              "\n",
              "    <script>\n",
              "      const buttonEl =\n",
              "        document.querySelector('#df-ed700f4d-ec01-4c2d-b742-7d4a9d81b0c8 button.colab-df-convert');\n",
              "      buttonEl.style.display =\n",
              "        google.colab.kernel.accessAllowed ? 'block' : 'none';\n",
              "\n",
              "      async function convertToInteractive(key) {\n",
              "        const element = document.querySelector('#df-ed700f4d-ec01-4c2d-b742-7d4a9d81b0c8');\n",
              "        const dataTable =\n",
              "          await google.colab.kernel.invokeFunction('convertToInteractive',\n",
              "                                                    [key], {});\n",
              "        if (!dataTable) return;\n",
              "\n",
              "        const docLinkHtml = 'Like what you see? Visit the ' +\n",
              "          '<a target=\"_blank\" href=https://colab.research.google.com/notebooks/data_table.ipynb>data table notebook</a>'\n",
              "          + ' to learn more about interactive tables.';\n",
              "        element.innerHTML = '';\n",
              "        dataTable['output_type'] = 'display_data';\n",
              "        await google.colab.output.renderOutput(dataTable, element);\n",
              "        const docLink = document.createElement('div');\n",
              "        docLink.innerHTML = docLinkHtml;\n",
              "        element.appendChild(docLink);\n",
              "      }\n",
              "    </script>\n",
              "  </div>\n",
              "\n",
              "\n",
              "<div id=\"df-845c32d4-99d4-48df-8df9-6c601bd4527a\">\n",
              "  <button class=\"colab-df-quickchart\" onclick=\"quickchart('df-845c32d4-99d4-48df-8df9-6c601bd4527a')\"\n",
              "            title=\"Suggest charts.\"\n",
              "            style=\"display:none;\">\n",
              "\n",
              "<svg xmlns=\"http://www.w3.org/2000/svg\" height=\"24px\"viewBox=\"0 0 24 24\"\n",
              "     width=\"24px\">\n",
              "    <g>\n",
              "        <path d=\"M19 3H5c-1.1 0-2 .9-2 2v14c0 1.1.9 2 2 2h14c1.1 0 2-.9 2-2V5c0-1.1-.9-2-2-2zM9 17H7v-7h2v7zm4 0h-2V7h2v10zm4 0h-2v-4h2v4z\"/>\n",
              "    </g>\n",
              "</svg>\n",
              "  </button>\n",
              "\n",
              "<style>\n",
              "  .colab-df-quickchart {\n",
              "      --bg-color: #E8F0FE;\n",
              "      --fill-color: #1967D2;\n",
              "      --hover-bg-color: #E2EBFA;\n",
              "      --hover-fill-color: #174EA6;\n",
              "      --disabled-fill-color: #AAA;\n",
              "      --disabled-bg-color: #DDD;\n",
              "  }\n",
              "\n",
              "  [theme=dark] .colab-df-quickchart {\n",
              "      --bg-color: #3B4455;\n",
              "      --fill-color: #D2E3FC;\n",
              "      --hover-bg-color: #434B5C;\n",
              "      --hover-fill-color: #FFFFFF;\n",
              "      --disabled-bg-color: #3B4455;\n",
              "      --disabled-fill-color: #666;\n",
              "  }\n",
              "\n",
              "  .colab-df-quickchart {\n",
              "    background-color: var(--bg-color);\n",
              "    border: none;\n",
              "    border-radius: 50%;\n",
              "    cursor: pointer;\n",
              "    display: none;\n",
              "    fill: var(--fill-color);\n",
              "    height: 32px;\n",
              "    padding: 0;\n",
              "    width: 32px;\n",
              "  }\n",
              "\n",
              "  .colab-df-quickchart:hover {\n",
              "    background-color: var(--hover-bg-color);\n",
              "    box-shadow: 0 1px 2px rgba(60, 64, 67, 0.3), 0 1px 3px 1px rgba(60, 64, 67, 0.15);\n",
              "    fill: var(--button-hover-fill-color);\n",
              "  }\n",
              "\n",
              "  .colab-df-quickchart-complete:disabled,\n",
              "  .colab-df-quickchart-complete:disabled:hover {\n",
              "    background-color: var(--disabled-bg-color);\n",
              "    fill: var(--disabled-fill-color);\n",
              "    box-shadow: none;\n",
              "  }\n",
              "\n",
              "  .colab-df-spinner {\n",
              "    border: 2px solid var(--fill-color);\n",
              "    border-color: transparent;\n",
              "    border-bottom-color: var(--fill-color);\n",
              "    animation:\n",
              "      spin 1s steps(1) infinite;\n",
              "  }\n",
              "\n",
              "  @keyframes spin {\n",
              "    0% {\n",
              "      border-color: transparent;\n",
              "      border-bottom-color: var(--fill-color);\n",
              "      border-left-color: var(--fill-color);\n",
              "    }\n",
              "    20% {\n",
              "      border-color: transparent;\n",
              "      border-left-color: var(--fill-color);\n",
              "      border-top-color: var(--fill-color);\n",
              "    }\n",
              "    30% {\n",
              "      border-color: transparent;\n",
              "      border-left-color: var(--fill-color);\n",
              "      border-top-color: var(--fill-color);\n",
              "      border-right-color: var(--fill-color);\n",
              "    }\n",
              "    40% {\n",
              "      border-color: transparent;\n",
              "      border-right-color: var(--fill-color);\n",
              "      border-top-color: var(--fill-color);\n",
              "    }\n",
              "    60% {\n",
              "      border-color: transparent;\n",
              "      border-right-color: var(--fill-color);\n",
              "    }\n",
              "    80% {\n",
              "      border-color: transparent;\n",
              "      border-right-color: var(--fill-color);\n",
              "      border-bottom-color: var(--fill-color);\n",
              "    }\n",
              "    90% {\n",
              "      border-color: transparent;\n",
              "      border-bottom-color: var(--fill-color);\n",
              "    }\n",
              "  }\n",
              "</style>\n",
              "\n",
              "  <script>\n",
              "    async function quickchart(key) {\n",
              "      const quickchartButtonEl =\n",
              "        document.querySelector('#' + key + ' button');\n",
              "      quickchartButtonEl.disabled = true;  // To prevent multiple clicks.\n",
              "      quickchartButtonEl.classList.add('colab-df-spinner');\n",
              "      try {\n",
              "        const charts = await google.colab.kernel.invokeFunction(\n",
              "            'suggestCharts', [key], {});\n",
              "      } catch (error) {\n",
              "        console.error('Error during call to suggestCharts:', error);\n",
              "      }\n",
              "      quickchartButtonEl.classList.remove('colab-df-spinner');\n",
              "      quickchartButtonEl.classList.add('colab-df-quickchart-complete');\n",
              "    }\n",
              "    (() => {\n",
              "      let quickchartButtonEl =\n",
              "        document.querySelector('#df-845c32d4-99d4-48df-8df9-6c601bd4527a button');\n",
              "      quickchartButtonEl.style.display =\n",
              "        google.colab.kernel.accessAllowed ? 'block' : 'none';\n",
              "    })();\n",
              "  </script>\n",
              "</div>\n",
              "    </div>\n",
              "  </div>\n"
            ]
          },
          "metadata": {},
          "execution_count": 128
        }
      ]
    },
    {
      "cell_type": "code",
      "source": [
        "df.isna().sum() #verificar valores nulos"
      ],
      "metadata": {
        "colab": {
          "base_uri": "https://localhost:8080/"
        },
        "id": "t2zB2pRQQphL",
        "outputId": "4d1663e8-10ea-497d-9cd2-69c1021caa90"
      },
      "execution_count": null,
      "outputs": [
        {
          "output_type": "execute_result",
          "data": {
            "text/plain": [
              "symboling             0\n",
              "normalized-losses    41\n",
              "make                  0\n",
              "fuel-type             0\n",
              "aspiration            0\n",
              "number-of-doors       2\n",
              "body-style            0\n",
              "drive-wheels          0\n",
              "engine-location       0\n",
              "wheel-base            0\n",
              "length                0\n",
              "width                 0\n",
              "height                0\n",
              "curb-weight           0\n",
              "engine-type           0\n",
              "num-of-cylinders      0\n",
              "engine-size           0\n",
              "fuel-system           0\n",
              "bore                  4\n",
              "stroke                4\n",
              "compression-ratio     0\n",
              "horsepower            2\n",
              "peak-rpm              2\n",
              "city-mpg              0\n",
              "highway-mpg           0\n",
              "price                 4\n",
              "dtype: int64"
            ]
          },
          "metadata": {},
          "execution_count": 129
        }
      ]
    },
    {
      "cell_type": "markdown",
      "source": [
        "Ya que identificamos correctamente los valores nulos, los tratamos. En el caso de las columnas con pocos registros nulos, podemos eliminar esas observaciones, sin embargo, en el caso de la columna *normalized-losses*, precindimos de toda la columna por su porcentaje alto de datos faltantes."
      ],
      "metadata": {
        "id": "i2wGgmusZN_I"
      }
    },
    {
      "cell_type": "markdown",
      "source": [
        "En el caso de columnas identificadas como object incorrectamente, las cambiamos a su debido dtype."
      ],
      "metadata": {
        "id": "a5aJegCoZfa3"
      }
    },
    {
      "cell_type": "code",
      "source": [
        "#Trato de valores nulos\n",
        "df.dropna(subset=['number-of-doors','horsepower','peak-rpm','bore','stroke','price'], inplace=True)\n",
        "df.drop(['normalized-losses'], inplace=True, axis=1)\n",
        "\n",
        "#Corregir dtypes\n",
        "df['horsepower'] = df['horsepower'].astype(int)\n",
        "df['peak-rpm'] = df['peak-rpm'].astype(int)\n",
        "df['price'] = df['price'].astype(int)\n",
        "df['stroke'] = df['stroke'].astype(float)\n",
        "df['bore'] = df['bore'].astype(float)\n",
        "\n",
        "df.info()"
      ],
      "metadata": {
        "colab": {
          "base_uri": "https://localhost:8080/"
        },
        "id": "iNCgXU6wQ3Pq",
        "outputId": "a709bedf-dda8-4fa6-aee1-85fb4f81a339"
      },
      "execution_count": null,
      "outputs": [
        {
          "output_type": "stream",
          "name": "stdout",
          "text": [
            "<class 'pandas.core.frame.DataFrame'>\n",
            "Int64Index: 193 entries, 0 to 204\n",
            "Data columns (total 25 columns):\n",
            " #   Column             Non-Null Count  Dtype  \n",
            "---  ------             --------------  -----  \n",
            " 0   symboling          193 non-null    int64  \n",
            " 1   make               193 non-null    object \n",
            " 2   fuel-type          193 non-null    object \n",
            " 3   aspiration         193 non-null    object \n",
            " 4   number-of-doors    193 non-null    object \n",
            " 5   body-style         193 non-null    object \n",
            " 6   drive-wheels       193 non-null    object \n",
            " 7   engine-location    193 non-null    object \n",
            " 8   wheel-base         193 non-null    float64\n",
            " 9   length             193 non-null    float64\n",
            " 10  width              193 non-null    float64\n",
            " 11  height             193 non-null    float64\n",
            " 12  curb-weight        193 non-null    int64  \n",
            " 13  engine-type        193 non-null    object \n",
            " 14  num-of-cylinders   193 non-null    object \n",
            " 15  engine-size        193 non-null    int64  \n",
            " 16  fuel-system        193 non-null    object \n",
            " 17  bore               193 non-null    float64\n",
            " 18  stroke             193 non-null    float64\n",
            " 19  compression-ratio  193 non-null    float64\n",
            " 20  horsepower         193 non-null    int64  \n",
            " 21  peak-rpm           193 non-null    int64  \n",
            " 22  city-mpg           193 non-null    int64  \n",
            " 23  highway-mpg        193 non-null    int64  \n",
            " 24  price              193 non-null    int64  \n",
            "dtypes: float64(7), int64(8), object(10)\n",
            "memory usage: 39.2+ KB\n"
          ]
        }
      ]
    },
    {
      "cell_type": "markdown",
      "source": [
        "##Tipo y escala de medición de los datos"
      ],
      "metadata": {
        "id": "eHTs8PcsZoET"
      }
    },
    {
      "cell_type": "code",
      "source": [
        "tipos = {'object': 'Categórico nominal', 'int64': 'Numérico discreto', 'float64': 'Numérico continuo'}\n",
        "for column in df.columns:\n",
        "    dtype_str = str(df[column].dtypes)  #tipo de dato a string\n",
        "    data_type_description = tipos.get(dtype_str, 'Desconocido')  #Descripción\n",
        "    print(f'{column} : {data_type_description}')"
      ],
      "metadata": {
        "colab": {
          "base_uri": "https://localhost:8080/"
        },
        "id": "caF-kJw0Qs1M",
        "outputId": "dc265766-3f2e-4f2b-e0ad-ac0ed3e9dc5f"
      },
      "execution_count": null,
      "outputs": [
        {
          "output_type": "stream",
          "name": "stdout",
          "text": [
            "symboling : Numérico discreto\n",
            "make : Categórico nominal\n",
            "fuel-type : Categórico nominal\n",
            "aspiration : Categórico nominal\n",
            "number-of-doors : Categórico nominal\n",
            "body-style : Categórico nominal\n",
            "drive-wheels : Categórico nominal\n",
            "engine-location : Categórico nominal\n",
            "wheel-base : Numérico continuo\n",
            "length : Numérico continuo\n",
            "width : Numérico continuo\n",
            "height : Numérico continuo\n",
            "curb-weight : Numérico discreto\n",
            "engine-type : Categórico nominal\n",
            "num-of-cylinders : Categórico nominal\n",
            "engine-size : Numérico discreto\n",
            "fuel-system : Categórico nominal\n",
            "bore : Numérico continuo\n",
            "stroke : Numérico continuo\n",
            "compression-ratio : Numérico continuo\n",
            "horsepower : Numérico discreto\n",
            "peak-rpm : Numérico discreto\n",
            "city-mpg : Numérico discreto\n",
            "highway-mpg : Numérico discreto\n",
            "price : Numérico discreto\n"
          ]
        }
      ]
    },
    {
      "cell_type": "markdown",
      "source": [
        "##Duplicados"
      ],
      "metadata": {
        "id": "vQ02aI1YP5kA"
      }
    },
    {
      "cell_type": "code",
      "source": [
        "#ver duplicados\n",
        "df[df.duplicated()]"
      ],
      "metadata": {
        "colab": {
          "base_uri": "https://localhost:8080/",
          "height": 133
        },
        "id": "0Q-3Y9UoTemV",
        "outputId": "98e2682a-54db-4725-9cc1-1d11cb7245da"
      },
      "execution_count": null,
      "outputs": [
        {
          "output_type": "execute_result",
          "data": {
            "text/plain": [
              "Empty DataFrame\n",
              "Columns: [symboling, make, fuel-type, aspiration, number-of-doors, body-style, drive-wheels, engine-location, wheel-base, length, width, height, curb-weight, engine-type, num-of-cylinders, engine-size, fuel-system, bore, stroke, compression-ratio, horsepower, peak-rpm, city-mpg, highway-mpg, price]\n",
              "Index: []\n",
              "\n",
              "[0 rows x 25 columns]"
            ],
            "text/html": [
              "\n",
              "  <div id=\"df-7a4bd451-f29b-461c-97d5-15a30b07e3db\" class=\"colab-df-container\">\n",
              "    <div>\n",
              "<style scoped>\n",
              "    .dataframe tbody tr th:only-of-type {\n",
              "        vertical-align: middle;\n",
              "    }\n",
              "\n",
              "    .dataframe tbody tr th {\n",
              "        vertical-align: top;\n",
              "    }\n",
              "\n",
              "    .dataframe thead th {\n",
              "        text-align: right;\n",
              "    }\n",
              "</style>\n",
              "<table border=\"1\" class=\"dataframe\">\n",
              "  <thead>\n",
              "    <tr style=\"text-align: right;\">\n",
              "      <th></th>\n",
              "      <th>symboling</th>\n",
              "      <th>make</th>\n",
              "      <th>fuel-type</th>\n",
              "      <th>aspiration</th>\n",
              "      <th>number-of-doors</th>\n",
              "      <th>body-style</th>\n",
              "      <th>drive-wheels</th>\n",
              "      <th>engine-location</th>\n",
              "      <th>wheel-base</th>\n",
              "      <th>length</th>\n",
              "      <th>...</th>\n",
              "      <th>engine-size</th>\n",
              "      <th>fuel-system</th>\n",
              "      <th>bore</th>\n",
              "      <th>stroke</th>\n",
              "      <th>compression-ratio</th>\n",
              "      <th>horsepower</th>\n",
              "      <th>peak-rpm</th>\n",
              "      <th>city-mpg</th>\n",
              "      <th>highway-mpg</th>\n",
              "      <th>price</th>\n",
              "    </tr>\n",
              "  </thead>\n",
              "  <tbody>\n",
              "  </tbody>\n",
              "</table>\n",
              "<p>0 rows × 25 columns</p>\n",
              "</div>\n",
              "    <div class=\"colab-df-buttons\">\n",
              "\n",
              "  <div class=\"colab-df-container\">\n",
              "    <button class=\"colab-df-convert\" onclick=\"convertToInteractive('df-7a4bd451-f29b-461c-97d5-15a30b07e3db')\"\n",
              "            title=\"Convert this dataframe to an interactive table.\"\n",
              "            style=\"display:none;\">\n",
              "\n",
              "  <svg xmlns=\"http://www.w3.org/2000/svg\" height=\"24px\" viewBox=\"0 -960 960 960\">\n",
              "    <path d=\"M120-120v-720h720v720H120Zm60-500h600v-160H180v160Zm220 220h160v-160H400v160Zm0 220h160v-160H400v160ZM180-400h160v-160H180v160Zm440 0h160v-160H620v160ZM180-180h160v-160H180v160Zm440 0h160v-160H620v160Z\"/>\n",
              "  </svg>\n",
              "    </button>\n",
              "\n",
              "  <style>\n",
              "    .colab-df-container {\n",
              "      display:flex;\n",
              "      gap: 12px;\n",
              "    }\n",
              "\n",
              "    .colab-df-convert {\n",
              "      background-color: #E8F0FE;\n",
              "      border: none;\n",
              "      border-radius: 50%;\n",
              "      cursor: pointer;\n",
              "      display: none;\n",
              "      fill: #1967D2;\n",
              "      height: 32px;\n",
              "      padding: 0 0 0 0;\n",
              "      width: 32px;\n",
              "    }\n",
              "\n",
              "    .colab-df-convert:hover {\n",
              "      background-color: #E2EBFA;\n",
              "      box-shadow: 0px 1px 2px rgba(60, 64, 67, 0.3), 0px 1px 3px 1px rgba(60, 64, 67, 0.15);\n",
              "      fill: #174EA6;\n",
              "    }\n",
              "\n",
              "    .colab-df-buttons div {\n",
              "      margin-bottom: 4px;\n",
              "    }\n",
              "\n",
              "    [theme=dark] .colab-df-convert {\n",
              "      background-color: #3B4455;\n",
              "      fill: #D2E3FC;\n",
              "    }\n",
              "\n",
              "    [theme=dark] .colab-df-convert:hover {\n",
              "      background-color: #434B5C;\n",
              "      box-shadow: 0px 1px 3px 1px rgba(0, 0, 0, 0.15);\n",
              "      filter: drop-shadow(0px 1px 2px rgba(0, 0, 0, 0.3));\n",
              "      fill: #FFFFFF;\n",
              "    }\n",
              "  </style>\n",
              "\n",
              "    <script>\n",
              "      const buttonEl =\n",
              "        document.querySelector('#df-7a4bd451-f29b-461c-97d5-15a30b07e3db button.colab-df-convert');\n",
              "      buttonEl.style.display =\n",
              "        google.colab.kernel.accessAllowed ? 'block' : 'none';\n",
              "\n",
              "      async function convertToInteractive(key) {\n",
              "        const element = document.querySelector('#df-7a4bd451-f29b-461c-97d5-15a30b07e3db');\n",
              "        const dataTable =\n",
              "          await google.colab.kernel.invokeFunction('convertToInteractive',\n",
              "                                                    [key], {});\n",
              "        if (!dataTable) return;\n",
              "\n",
              "        const docLinkHtml = 'Like what you see? Visit the ' +\n",
              "          '<a target=\"_blank\" href=https://colab.research.google.com/notebooks/data_table.ipynb>data table notebook</a>'\n",
              "          + ' to learn more about interactive tables.';\n",
              "        element.innerHTML = '';\n",
              "        dataTable['output_type'] = 'display_data';\n",
              "        await google.colab.output.renderOutput(dataTable, element);\n",
              "        const docLink = document.createElement('div');\n",
              "        docLink.innerHTML = docLinkHtml;\n",
              "        element.appendChild(docLink);\n",
              "      }\n",
              "    </script>\n",
              "  </div>\n",
              "\n",
              "    </div>\n",
              "  </div>\n"
            ]
          },
          "metadata": {},
          "execution_count": 132
        }
      ]
    },
    {
      "cell_type": "markdown",
      "source": [
        "No hay registros duplicados"
      ],
      "metadata": {
        "id": "HVaJPVC6Zt1A"
      }
    },
    {
      "cell_type": "markdown",
      "source": [
        "##Análisis de correlación"
      ],
      "metadata": {
        "id": "vhjjIzJOP7RD"
      }
    },
    {
      "cell_type": "code",
      "source": [
        "import seaborn as sns\n",
        "\n",
        "sns.heatmap(df.corr())"
      ],
      "metadata": {
        "colab": {
          "base_uri": "https://localhost:8080/",
          "height": 621
        },
        "id": "zoND7Iu0WRyZ",
        "outputId": "5eabe85c-f57c-412c-cf53-039eacbf8e28"
      },
      "execution_count": null,
      "outputs": [
        {
          "output_type": "stream",
          "name": "stderr",
          "text": [
            "<ipython-input-133-91af870b7b07>:3: FutureWarning: The default value of numeric_only in DataFrame.corr is deprecated. In a future version, it will default to False. Select only valid columns or specify the value of numeric_only to silence this warning.\n",
            "  sns.heatmap(df.corr())\n"
          ]
        },
        {
          "output_type": "execute_result",
          "data": {
            "text/plain": [
              "<Axes: >"
            ]
          },
          "metadata": {},
          "execution_count": 133
        },
        {
          "output_type": "display_data",
          "data": {
            "text/plain": [
              "<Figure size 640x480 with 2 Axes>"
            ],
            "image/png": "[encoded data removed]"
          },
          "metadata": {}
        }
      ]
    },
    {
      "cell_type": "markdown",
      "source": [
        "Las variables *city-mpg* y *highway-mpg* están altamente correlacionadas, por lo que podemos remover una de estas."
      ],
      "metadata": {
        "id": "tquQiH7IYwKs"
      }
    },
    {
      "cell_type": "code",
      "source": [
        "#drop de variables correlacionadas\n",
        "df.drop(['city-mpg','engine-size', 'length'], inplace=True, axis=1)\n",
        "\n",
        "#drop de variables con baja correlación al tagret (price)\n",
        "df.drop(df.corr().iloc[-1][(df.corr().iloc[-1]<0.4) & (df.corr().iloc[-1]>-0.4)].index, axis=1, inplace=True)"
      ],
      "metadata": {
        "id": "yIlPLRadXBtu",
        "colab": {
          "base_uri": "https://localhost:8080/"
        },
        "outputId": "8a82d6e6-212d-4a52-ba48-f0dd28b5fdc3"
      },
      "execution_count": null,
      "outputs": [
        {
          "output_type": "stream",
          "name": "stderr",
          "text": [
            "<ipython-input-134-8c07985d52e2>:5: FutureWarning: The default value of numeric_only in DataFrame.corr is deprecated. In a future version, it will default to False. Select only valid columns or specify the value of numeric_only to silence this warning.\n",
            "  df.drop(df.corr().iloc[-1][(df.corr().iloc[-1]<0.4) & (df.corr().iloc[-1]>-0.4)].index, axis=1, inplace=True)\n"
          ]
        }
      ]
    },
    {
      "cell_type": "markdown",
      "source": [
        "##Análisis de outliers"
      ],
      "metadata": {
        "id": "iMERo5RQP-yN"
      }
    },
    {
      "cell_type": "code",
      "source": [
        "#Revisar outliers\n",
        "import matplotlib.pyplot as plt\n",
        "\n",
        "fig, ax = plt.subplots(figsize=(10,10))\n",
        "df.boxplot(ax=ax)\n",
        "plt.xticks(rotation=60)\n",
        "plt.show()"
      ],
      "metadata": {
        "colab": {
          "base_uri": "https://localhost:8080/",
          "height": 905
        },
        "id": "q-bq_qbLXqAZ",
        "outputId": "e078e158-d0ff-46c7-9c6a-d4755da3cf7f"
      },
      "execution_count": null,
      "outputs": [
        {
          "output_type": "display_data",
          "data": {
            "text/plain": [
              "<Figure size 1000x1000 with 1 Axes>"
            ],
            "image/png": "[encoded data removed]"
          },
          "metadata": {}
        }
      ]
    },
    {
      "cell_type": "markdown",
      "source": [
        "Solamente la variable *Price* tiene outliers notables. Si usamos esa variable como target, es necesario tener esa información, por lo que no se remueven del dataframe."
      ],
      "metadata": {
        "id": "A2CI516nYf_g"
      }
    },
    {
      "cell_type": "markdown",
      "source": [
        "##Codificación de variables categóricas"
      ],
      "metadata": {
        "id": "cPYFO286QEtH"
      }
    },
    {
      "cell_type": "markdown",
      "source": [
        "Obtenemos los dummies para generar un modelo estadístico de predicción."
      ],
      "metadata": {
        "id": "hnxmckBaJv4J"
      }
    },
    {
      "cell_type": "code",
      "source": [
        "#Codificar variables categóricas\n",
        "\n",
        "cat = df.select_dtypes(include=['object']).columns\n",
        "\n",
        "# Create one-hot encoded columns\n",
        "dummies_df = pd.get_dummies(df, columns=cat)\n",
        "\n",
        "dummies_df.shape"
      ],
      "metadata": {
        "colab": {
          "base_uri": "https://localhost:8080/"
        },
        "id": "EE4uSoEgX4WP",
        "outputId": "724e6814-dc66-48e3-d10b-e3fd0fc4bdfb"
      },
      "execution_count": null,
      "outputs": [
        {
          "output_type": "execute_result",
          "data": {
            "text/plain": [
              "(193, 62)"
            ]
          },
          "metadata": {},
          "execution_count": 137
        }
      ]
    },
    {
      "cell_type": "markdown",
      "source": [
        "#2 Construcción de un modelo estadístico base"
      ],
      "metadata": {
        "id": "r9gahs0-J4Xd"
      }
    },
    {
      "cell_type": "code",
      "source": [
        "import matplotlib.pyplot as plt\n",
        "import seaborn as sns\n",
        "import statsmodels.api as sm\n",
        "import scipy.stats as stats"
      ],
      "metadata": {
        "id": "dCsvnDWanMB_"
      },
      "execution_count": null,
      "outputs": []
    },
    {
      "cell_type": "markdown",
      "source": [
        "##Regresión lineal"
      ],
      "metadata": {
        "id": "6YUuH-ooQg3L"
      }
    },
    {
      "cell_type": "code",
      "source": [
        "from statsmodels.tools.tools import add_constant\n",
        "#establecer datos para el modelo\n",
        "y = dummies_df['price']\n",
        "X = dummies_df[dummies_df.drop('price', axis=1).columns]\n",
        "X = add_constant(X)"
      ],
      "metadata": {
        "id": "17usMBpLEsqf"
      },
      "execution_count": null,
      "outputs": []
    },
    {
      "cell_type": "markdown",
      "source": [
        "Construimos un modelo de regresión lineal, donde la *y* es la variable *price*"
      ],
      "metadata": {
        "id": "lSdZZklYKE1B"
      }
    },
    {
      "cell_type": "markdown",
      "source": [
        "##Estadísticas del modelo"
      ],
      "metadata": {
        "id": "ImFABUckQjj-"
      }
    },
    {
      "cell_type": "code",
      "source": [
        "#linear model\n",
        "reg = sm.OLS(y, X)\n",
        "res = reg.fit()\n",
        "print(res.summary())"
      ],
      "metadata": {
        "colab": {
          "base_uri": "https://localhost:8080/"
        },
        "id": "aL6mNoUjuDVf",
        "outputId": "3bca0452-eb8a-418f-c7eb-ef3fe56fee41"
      },
      "execution_count": null,
      "outputs": [
        {
          "output_type": "stream",
          "name": "stdout",
          "text": [
            "                            OLS Regression Results                            \n",
            "==============================================================================\n",
            "Dep. Variable:                  price   R-squared:                       0.958\n",
            "Model:                            OLS   Adj. R-squared:                  0.944\n",
            "Method:                 Least Squares   F-statistic:                     68.97\n",
            "Date:                Fri, 15 Sep 2023   Prob (F-statistic):           1.08e-78\n",
            "Time:                        00:57:55   Log-Likelihood:                -1703.4\n",
            "No. Observations:                 193   AIC:                             3505.\n",
            "Df Residuals:                     144   BIC:                             3665.\n",
            "Df Model:                          48                                         \n",
            "Covariance Type:            nonrobust                                         \n",
            "===========================================================================================\n",
            "                              coef    std err          t      P>|t|      [0.025      0.975]\n",
            "-------------------------------------------------------------------------------------------\n",
            "const                   -9968.5090   3070.162     -3.247      0.001    -1.6e+04   -3900.103\n",
            "wheel-base                121.2807     75.490      1.607      0.110     -27.931     270.492\n",
            "width                     522.4858    231.970      2.252      0.026      63.981     980.991\n",
            "curb-weight                 4.1825      1.562      2.677      0.008       1.095       7.270\n",
            "bore                    -1473.5926   1382.630     -1.066      0.288   -4206.464    1259.279\n",
            "horsepower                 73.4871     19.627      3.744      0.000      34.694     112.281\n",
            "highway-mpg                75.4532     63.912      1.181      0.240     -50.874     201.780\n",
            "make_alfa-romero          550.7083   1453.346      0.379      0.705   -2321.939    3423.356\n",
            "make_audi                 772.3345   1495.276      0.517      0.606   -2183.190    3727.859\n",
            "make_bmw                 7061.8154   1164.712      6.063      0.000    4759.674    9363.957\n",
            "make_chevrolet          -2377.9102   1433.899     -1.658      0.099   -5212.120     456.299\n",
            "make_dodge              -2372.7244    838.378     -2.830      0.005   -4029.841    -715.608\n",
            "make_honda              -1097.0246   1439.950     -0.762      0.447   -3943.193    1749.144\n",
            "make_isuzu              -2590.2615   2062.868     -1.256      0.211   -6667.676    1487.153\n",
            "make_jaguar              6300.8147   1887.455      3.338      0.001    2570.118       1e+04\n",
            "make_mazda              -1476.3918    707.212     -2.088      0.039   -2874.249     -78.535\n",
            "make_mercedes-benz       3481.2457   1902.497      1.830      0.069    -279.182    7241.673\n",
            "make_mercury            -5064.6506   2061.732     -2.457      0.015   -9139.818    -989.483\n",
            "make_mitsubishi         -3342.0701    845.681     -3.952      0.000   -5013.622   -1670.518\n",
            "make_nissan             -1913.9953    707.014     -2.707      0.008   -3311.462    -516.528\n",
            "make_peugot             -2458.7916   1252.449     -1.963      0.052   -4934.351      16.768\n",
            "make_plymouth           -2801.2568    858.528     -3.263      0.001   -4498.201   -1104.312\n",
            "make_porsche             4667.4806   2104.968      2.217      0.028     506.854    8828.107\n",
            "make_saab                -496.8697   1042.310     -0.477      0.634   -2557.073    1563.333\n",
            "make_subaru             -1163.9047    810.667     -1.436      0.153   -2766.248     438.439\n",
            "make_toyota             -2763.2686    506.856     -5.452      0.000   -3765.107   -1761.431\n",
            "make_volkswagen         -1936.3529    791.509     -2.446      0.016   -3500.830    -371.875\n",
            "make_volvo               -947.4356    925.154     -1.024      0.308   -2776.072     881.200\n",
            "fuel-type_diesel        -3230.2041   1210.973     -2.667      0.009   -5623.783    -836.625\n",
            "fuel-type_gas           -6738.3050   1959.447     -3.439      0.001   -1.06e+04   -2865.310\n",
            "aspiration_std          -5217.3938   1578.682     -3.305      0.001   -8337.777   -2097.010\n",
            "aspiration_turbo        -4751.1152   1577.464     -3.012      0.003   -7869.091   -1633.139\n",
            "number-of-doors_four    -4993.4516   1601.327     -3.118      0.002   -8158.595   -1828.308\n",
            "number-of-doors_two     -4975.0574   1510.257     -3.294      0.001   -7960.195   -1989.920\n",
            "body-style_convertible    750.5302   1040.216      0.722      0.472   -1305.535    2806.596\n",
            "body-style_hardtop      -2114.7445    987.297     -2.142      0.034   -4066.212    -163.277\n",
            "body-style_hatchback    -2632.5141    813.428     -3.236      0.002   -4240.316   -1024.713\n",
            "body-style_sedan        -2573.1033    781.258     -3.294      0.001   -4117.319   -1028.888\n",
            "body-style_wagon        -3398.6773    801.864     -4.238      0.000   -4983.622   -1813.733\n",
            "drive-wheels_4wd        -2975.9693   1043.152     -2.853      0.005   -5037.837    -914.102\n",
            "drive-wheels_fwd        -3758.4257   1195.141     -3.145      0.002   -6120.711   -1396.140\n",
            "drive-wheels_rwd        -3234.1140   1271.355     -2.544      0.012   -5747.043    -721.185\n",
            "engine-location_front   -9323.6477   2276.096     -4.096      0.000   -1.38e+04   -4824.773\n",
            "engine-location_rear     -644.8613   1513.700     -0.426      0.671   -3636.803    2347.080\n",
            "engine-type_dohc        -2062.0426    875.173     -2.356      0.020   -3791.887    -332.198\n",
            "engine-type_l           -1936.4346   1009.606     -1.918      0.057   -3931.996      59.127\n",
            "engine-type_ohc          -792.0799    866.370     -0.914      0.362   -2504.525     920.365\n",
            "engine-type_ohcf        -1808.7660   1159.650     -1.560      0.121   -4100.902     483.370\n",
            "engine-type_ohcv        -3369.1860   1057.203     -3.187      0.002   -5458.827   -1279.545\n",
            "num-of-cylinders_eight   6003.7966   2035.554      2.949      0.004    1980.371       1e+04\n",
            "num-of-cylinders_five   -4070.6620   1570.570     -2.592      0.011   -7175.011    -966.313\n",
            "num-of-cylinders_four   -4195.5244   1354.130     -3.098      0.002   -6872.064   -1518.985\n",
            "num-of-cylinders_six    -3306.1955   1082.955     -3.053      0.003   -5446.737   -1165.654\n",
            "num-of-cylinders_three    522.3571   1667.340      0.313      0.755   -2773.266    3817.980\n",
            "num-of-cylinders_twelve -4922.2808   3076.267     -1.600      0.112    -1.1e+04    1158.191\n",
            "fuel-system_1bbl        -1122.7403   1494.990     -0.751      0.454   -4077.699    1832.219\n",
            "fuel-system_2bbl         -132.1152    729.733     -0.181      0.857   -1574.488    1310.257\n",
            "fuel-system_idi         -3230.2041   1210.973     -2.667      0.009   -5623.783    -836.625\n",
            "fuel-system_mfi         -2718.3854   1954.015     -1.391      0.166   -6580.642    1143.871\n",
            "fuel-system_mpfi        -1078.1427    834.682     -1.292      0.199   -2727.954     571.669\n",
            "fuel-system_spdi        -1510.7159   1040.167     -1.452      0.149   -3566.684     545.252\n",
            "fuel-system_spfi         -176.2055   2501.232     -0.070      0.944   -5120.079    4767.668\n",
            "==============================================================================\n",
            "Omnibus:                       72.122   Durbin-Watson:                   1.454\n",
            "Prob(Omnibus):                  0.000   Jarque-Bera (JB):              355.557\n",
            "Skew:                           1.341   Prob(JB):                     6.19e-78\n",
            "Kurtosis:                       9.085   Cond. No.                     3.51e+16\n",
            "==============================================================================\n",
            "\n",
            "Notes:\n",
            "[1] Standard Errors assume that the covariance matrix of the errors is correctly specified.\n",
            "[2] The smallest eigenvalue is 1.07e-24. This might indicate that there are\n",
            "strong multicollinearity problems or that the design matrix is singular.\n"
          ]
        }
      ]
    },
    {
      "cell_type": "markdown",
      "source": [
        "Las estadísticas del modelo indican un valor de *R^2* sumamente alto (0.95), lo que puede indicar un desempeño del modelo muy bueno. Sin embargo, las notas finales alertan de posible multicolinealidad en los datos, lo que significa información redundante. Esto probablemente asociado a la gran cantidad de variables y *dummies*, y probablemente estemos tratando con un caso de *overfitting*.\n",
        "\n",
        "Podemos hacer pruebas de hipótesis que nos ayuden a determinar la significancia de nuestro modelo y las variables que considera. Además de que es necesario verificar los supuestos de la regresión lineal:\n",
        "\n",
        "\n",
        "*   Linealidad\n",
        "*   Independencia entre *X* y *y*\n",
        "* Homocedasticidad\n",
        "* Normalidad de los residuos\n",
        "* Multicolinealidad baja\n",
        "*Independencia entre errores y *X*\n",
        "\n",
        "Sabemos ya de la evidencia de alta multicolinealidad, así que es necesario mejorar el modelo para validar todos los supuestos.\n",
        "\n",
        "\n"
      ],
      "metadata": {
        "id": "4HOSzZpIKmcg"
      }
    },
    {
      "cell_type": "markdown",
      "source": [
        "##Prueba de significancia de la regresión"
      ],
      "metadata": {
        "id": "BV_H1Lvpchqg"
      }
    },
    {
      "cell_type": "code",
      "source": [
        "print('SST = {} \\nSSR = {} \\nSSE = {}'.format(res.ess+res.ssr ,res.ess, res.ssr))\n",
        "print('F = {}'.format(res.fvalue))\n",
        "print('R^2 = {}'.format(res.rsquared))\n",
        "print('R_adj^2 = {}'.format(res.rsquared_adj))"
      ],
      "metadata": {
        "colab": {
          "base_uri": "https://localhost:8080/"
        },
        "id": "PptaUdbcveZg",
        "outputId": "5742d56b-7dce-42c2-ede5-5d377550979c"
      },
      "execution_count": null,
      "outputs": [
        {
          "output_type": "stream",
          "name": "stdout",
          "text": [
            "SST = 12563186290.870466 \n",
            "SSR = 12039475930.85938 \n",
            "SSE = 523710360.01108474\n",
            "F = 68.96641836875952\n",
            "R^2 = 0.958313890450573\n",
            "R_adj^2 = 0.944418520600764\n"
          ]
        }
      ]
    },
    {
      "cell_type": "code",
      "source": [
        "#Grados de libertad\n",
        "dfn = len(res.model.exog_names) - 1\n",
        "dfd = len(y) - len(res.params)\n",
        "\n",
        "#nivel de significancia\n",
        "alpha = 0.05\n",
        "\n",
        "#valor crítico\n",
        "critical_value = stats.f.ppf(1 - alpha / 2, dfn, dfd)\n",
        "print(f'Critical F-Value: {critical_value}')"
      ],
      "metadata": {
        "colab": {
          "base_uri": "https://localhost:8080/"
        },
        "id": "leRbN0k1atz4",
        "outputId": "5f743915-00e1-4c95-95a0-4518376f107d"
      },
      "execution_count": null,
      "outputs": [
        {
          "output_type": "stream",
          "name": "stdout",
          "text": [
            "Critical F-Value: 1.5153318758034937\n"
          ]
        }
      ]
    },
    {
      "cell_type": "markdown",
      "source": [
        "Para la prueba tenemos H_0 (todos los coeficientes son cero) y H_1 (al menos uno de los coeficientes es diferente de cero). Lo primero indica que nuestras variables no sirven para explicar la variable *y*, mientras que los segundo significa que al menos una de las variables de modelo logra explicar la variable dependiente.\n",
        "\n",
        "En nuestra prueba, obtenemos un valor de F de 68.96 y un valor crítico de 1.5, lo que da evidencia de que al menos una de las variables explica el modelo, y apoya el rechazo H_0. Para el nivel de confianza establecido, la probabilidad de que nuestra F sea menor al valor crítico es de 1.08e-78, mucho menos que la significancia 0.05.\n",
        "\n",
        "Hacer ahora una prueba de significancia a cada uno de los coeficientes nos ayudará a determinar cuáles son importantes (significativos) para el modelo, y cuáles no."
      ],
      "metadata": {
        "id": "2Hdxl0BRclFu"
      }
    },
    {
      "cell_type": "markdown",
      "source": [
        "##Prueba de significancia para los coeficientes"
      ],
      "metadata": {
        "id": "f2Npldd3dh2M"
      }
    },
    {
      "cell_type": "markdown",
      "source": [
        "Realizamos una prueba de significancia individual a cada coeficiente, de manera que obtengamos solamente los coeficientes significativos para nuestra regresión lineal."
      ],
      "metadata": {
        "id": "9woB3OvqeW_r"
      }
    },
    {
      "cell_type": "code",
      "source": [
        "#significancia\n",
        "alpha = 0.05\n",
        "\n",
        "significant_coefficients = []\n",
        "\n",
        "for i in range(len(res.tvalues)):\n",
        "    t_statistic = res.tvalues[i]\n",
        "    p_value = res.pvalues[i]\n",
        "    coefficient_name = res.params.index[i]\n",
        "\n",
        "    # Prueba\n",
        "    if p_value < alpha:\n",
        "        significant_coefficients.append(coefficient_name)\n",
        "\n",
        "significant_coefficients"
      ],
      "metadata": {
        "colab": {
          "base_uri": "https://localhost:8080/"
        },
        "id": "kuMQ-7ZUdvi9",
        "outputId": "9fb3e5c0-2567-4d7a-d6c6-55d500df10e9"
      },
      "execution_count": null,
      "outputs": [
        {
          "output_type": "execute_result",
          "data": {
            "text/plain": [
              "['const',\n",
              " 'width',\n",
              " 'curb-weight',\n",
              " 'horsepower',\n",
              " 'make_bmw',\n",
              " 'make_dodge',\n",
              " 'make_jaguar',\n",
              " 'make_mazda',\n",
              " 'make_mercury',\n",
              " 'make_mitsubishi',\n",
              " 'make_nissan',\n",
              " 'make_plymouth',\n",
              " 'make_porsche',\n",
              " 'make_toyota',\n",
              " 'make_volkswagen',\n",
              " 'fuel-type_diesel',\n",
              " 'fuel-type_gas',\n",
              " 'aspiration_std',\n",
              " 'aspiration_turbo',\n",
              " 'number-of-doors_four',\n",
              " 'number-of-doors_two',\n",
              " 'body-style_hardtop',\n",
              " 'body-style_hatchback',\n",
              " 'body-style_sedan',\n",
              " 'body-style_wagon',\n",
              " 'drive-wheels_4wd',\n",
              " 'drive-wheels_fwd',\n",
              " 'drive-wheels_rwd',\n",
              " 'engine-location_front',\n",
              " 'engine-type_dohc',\n",
              " 'engine-type_ohcv',\n",
              " 'num-of-cylinders_eight',\n",
              " 'num-of-cylinders_five',\n",
              " 'num-of-cylinders_four',\n",
              " 'num-of-cylinders_six',\n",
              " 'fuel-system_idi']"
            ]
          },
          "metadata": {},
          "execution_count": 164
        }
      ]
    },
    {
      "cell_type": "markdown",
      "source": [
        "##Modelo con coeficientes significativos"
      ],
      "metadata": {
        "id": "0hQ3SzeyehKU"
      }
    },
    {
      "cell_type": "markdown",
      "source": [
        "Podemos construir un modelo con las variables significativas y comprobar el resto de supuestos."
      ],
      "metadata": {
        "id": "2ljsoOd3euiF"
      }
    },
    {
      "cell_type": "code",
      "source": [
        "X_s = dummies_df[significant_coefficients[1:]]\n",
        "X_s = sm.add_constant(X_s)"
      ],
      "metadata": {
        "id": "vAACWOXZdvwL"
      },
      "execution_count": null,
      "outputs": []
    },
    {
      "cell_type": "code",
      "source": [
        "#linear model\n",
        "reg_sig = sm.OLS(y, X_s)\n",
        "y_hat = reg_sig.fit()\n",
        "print(y_hat.summary())"
      ],
      "metadata": {
        "colab": {
          "base_uri": "https://localhost:8080/"
        },
        "id": "ifweyNbofG-U",
        "outputId": "8a33b4f4-8e1a-4f55-995c-06cce5a8add0"
      },
      "execution_count": null,
      "outputs": [
        {
          "output_type": "stream",
          "name": "stdout",
          "text": [
            "                            OLS Regression Results                            \n",
            "==============================================================================\n",
            "Dep. Variable:                  price   R-squared:                       0.947\n",
            "Model:                            OLS   Adj. R-squared:                  0.937\n",
            "Method:                 Least Squares   F-statistic:                     96.67\n",
            "Date:                Fri, 15 Sep 2023   Prob (F-statistic):           3.86e-88\n",
            "Time:                        01:41:02   Log-Likelihood:                -1726.4\n",
            "No. Observations:                 193   AIC:                             3515.\n",
            "Df Residuals:                     162   BIC:                             3616.\n",
            "Df Model:                          30                                         \n",
            "Covariance Type:            nonrobust                                         \n",
            "==========================================================================================\n",
            "                             coef    std err          t      P>|t|      [0.025      0.975]\n",
            "------------------------------------------------------------------------------------------\n",
            "const                  -9453.6969   3483.620     -2.714      0.007   -1.63e+04   -2574.537\n",
            "width                    600.2505    192.354      3.121      0.002     220.405     980.096\n",
            "curb-weight                3.3976      1.127      3.014      0.003       1.171       5.624\n",
            "horsepower                58.1855     13.702      4.247      0.000      31.129      85.243\n",
            "make_bmw                8394.6374   1119.178      7.501      0.000    6184.580    1.06e+04\n",
            "make_dodge              -708.2135    811.244     -0.873      0.384   -2310.190     893.763\n",
            "make_jaguar             8031.8973   1646.930      4.877      0.000    4779.679    1.13e+04\n",
            "make_mazda               279.6350    669.914      0.417      0.677   -1043.254    1602.524\n",
            "make_mercury           -2701.9480   2176.729     -1.241      0.216   -7000.370    1596.474\n",
            "make_mitsubishi        -1937.6286    692.112     -2.800      0.006   -3304.354    -570.903\n",
            "make_nissan             -343.6404    661.765     -0.519      0.604   -1650.437     963.157\n",
            "make_plymouth          -1026.7081    851.518     -1.206      0.230   -2708.214     654.798\n",
            "make_porsche            5233.7182   2164.554      2.418      0.017     959.340    9508.097\n",
            "make_toyota            -1219.1612    485.985     -2.509      0.013   -2178.843    -259.479\n",
            "make_volkswagen        -1039.6340    699.561     -1.486      0.139   -2421.067     341.799\n",
            "fuel-type_diesel       -2489.8842   1195.751     -2.082      0.039   -4851.153    -128.615\n",
            "fuel-type_gas          -6963.8127   2340.141     -2.976      0.003   -1.16e+04   -2342.700\n",
            "aspiration_std         -4872.0065   1757.489     -2.772      0.006   -8342.548   -1401.465\n",
            "aspiration_turbo       -4581.6903   1782.321     -2.571      0.011   -8101.267   -1062.114\n",
            "number-of-doors_four   -4610.9816   1793.134     -2.571      0.011   -8151.911   -1070.052\n",
            "number-of-doors_two    -4842.7153   1726.965     -2.804      0.006   -8252.981   -1432.449\n",
            "body-style_hardtop     -2468.3388   1181.985     -2.088      0.038   -4802.423    -134.254\n",
            "body-style_hatchback   -3224.7234   1022.578     -3.154      0.002   -5244.024   -1205.423\n",
            "body-style_sedan       -3225.4750   1062.783     -3.035      0.003   -5324.170   -1126.780\n",
            "body-style_wagon       -3948.8159   1129.576     -3.496      0.001   -6179.408   -1718.224\n",
            "drive-wheels_4wd       -3411.0844   1155.932     -2.951      0.004   -5693.722   -1128.447\n",
            "drive-wheels_fwd       -3207.8096   1283.706     -2.499      0.013   -5742.763    -672.856\n",
            "drive-wheels_rwd       -2834.8029   1292.735     -2.193      0.030   -5387.588    -282.018\n",
            "engine-location_front  -7056.8324   2848.042     -2.478      0.014   -1.27e+04   -1432.760\n",
            "engine-type_dohc        -744.0878    922.089     -0.807      0.421   -2564.951    1076.775\n",
            "engine-type_ohcv       -3096.6168   1254.738     -2.468      0.015   -5574.369    -618.865\n",
            "num-of-cylinders_eight  1.459e+04   2342.841      6.229      0.000    9967.525    1.92e+04\n",
            "num-of-cylinders_five   1171.1408   2046.618      0.572      0.568   -2870.348    5212.630\n",
            "num-of-cylinders_four  -2723.4053   1812.004     -1.503      0.135   -6301.597     854.787\n",
            "num-of-cylinders_six    -567.5332   1839.544     -0.309      0.758   -4200.111    3065.044\n",
            "fuel-system_idi        -2489.8842   1195.751     -2.082      0.039   -4851.153    -128.615\n",
            "==============================================================================\n",
            "Omnibus:                       49.628   Durbin-Watson:                   1.247\n",
            "Prob(Omnibus):                  0.000   Jarque-Bera (JB):              174.680\n",
            "Skew:                           0.976   Prob(JB):                     1.17e-38\n",
            "Kurtosis:                       7.232   Cond. No.                     3.21e+16\n",
            "==============================================================================\n",
            "\n",
            "Notes:\n",
            "[1] Standard Errors assume that the covariance matrix of the errors is correctly specified.\n",
            "[2] The smallest eigenvalue is 1.29e-24. This might indicate that there are\n",
            "strong multicollinearity problems or that the design matrix is singular.\n"
          ]
        }
      ]
    },
    {
      "cell_type": "markdown",
      "source": [
        "##Normalidad de residuos\n",
        "\n",
        "El *p-value* de la prueba Jarque-Bera sugiere que mis residuos no siguen una distribución normal. Aplicar una transformación a la variable dependiente puede ayudar."
      ],
      "metadata": {
        "id": "Y3w-f6R2gvzW"
      }
    },
    {
      "cell_type": "code",
      "source": [
        "#modelo con tranformación logarítmica\n",
        "y_log = np.log(y)\n",
        "reg_sig = sm.OLS(y_log, X_s)\n",
        "y_hat = reg_sig.fit()\n",
        "print(y_hat.summary())"
      ],
      "metadata": {
        "colab": {
          "base_uri": "https://localhost:8080/"
        },
        "id": "r450IdK8gxWD",
        "outputId": "7801857f-1e94-4ee1-c707-949120458fad"
      },
      "execution_count": null,
      "outputs": [
        {
          "output_type": "stream",
          "name": "stdout",
          "text": [
            "                            OLS Regression Results                            \n",
            "==============================================================================\n",
            "Dep. Variable:                  price   R-squared:                       0.949\n",
            "Model:                            OLS   Adj. R-squared:                  0.940\n",
            "Method:                 Least Squares   F-statistic:                     100.6\n",
            "Date:                Fri, 15 Sep 2023   Prob (F-statistic):           1.91e-89\n",
            "Time:                        01:48:27   Log-Likelihood:                 143.43\n",
            "No. Observations:                 193   AIC:                            -224.9\n",
            "Df Residuals:                     162   BIC:                            -123.7\n",
            "Df Model:                          30                                         \n",
            "Covariance Type:            nonrobust                                         \n",
            "==========================================================================================\n",
            "                             coef    std err          t      P>|t|      [0.025      0.975]\n",
            "------------------------------------------------------------------------------------------\n",
            "const                      2.0707      0.216      9.585      0.000       1.644       2.497\n",
            "width                      0.0327      0.012      2.743      0.007       0.009       0.056\n",
            "curb-weight                0.0004   6.99e-05      5.944      0.000       0.000       0.001\n",
            "horsepower                 0.0038      0.001      4.492      0.000       0.002       0.005\n",
            "make_bmw                   0.4632      0.069      6.673      0.000       0.326       0.600\n",
            "make_dodge                -0.0840      0.050     -1.669      0.097      -0.183       0.015\n",
            "make_jaguar               -0.0463      0.102     -0.453      0.651      -0.248       0.155\n",
            "make_mazda                 0.0278      0.042      0.670      0.504      -0.054       0.110\n",
            "make_mercury              -0.1233      0.135     -0.913      0.363      -0.390       0.143\n",
            "make_mitsubishi           -0.1427      0.043     -3.325      0.001      -0.227      -0.058\n",
            "make_nissan               -0.0212      0.041     -0.516      0.606      -0.102       0.060\n",
            "make_plymouth             -0.1114      0.053     -2.109      0.037      -0.216      -0.007\n",
            "make_porsche               0.3689      0.134      2.748      0.007       0.104       0.634\n",
            "make_toyota               -0.0709      0.030     -2.351      0.020      -0.130      -0.011\n",
            "make_volkswagen            0.0067      0.043      0.155      0.877      -0.079       0.092\n",
            "fuel-type_diesel           0.7067      0.074      9.529      0.000       0.560       0.853\n",
            "fuel-type_gas              1.3641      0.145      9.399      0.000       1.077       1.651\n",
            "aspiration_std             1.0170      0.109      9.331      0.000       0.802       1.232\n",
            "aspiration_turbo           1.0537      0.111      9.533      0.000       0.835       1.272\n",
            "number-of-doors_four       1.0567      0.111      9.503      0.000       0.837       1.276\n",
            "number-of-doors_two        1.0140      0.107      9.468      0.000       0.803       1.226\n",
            "body-style_hardtop        -0.2115      0.073     -2.885      0.004      -0.356      -0.067\n",
            "body-style_hatchback      -0.2472      0.063     -3.898      0.000      -0.372      -0.122\n",
            "body-style_sedan          -0.2347      0.066     -3.561      0.000      -0.365      -0.105\n",
            "body-style_wagon          -0.3147      0.070     -4.493      0.000      -0.453      -0.176\n",
            "drive-wheels_4wd           0.6736      0.072      9.397      0.000       0.532       0.815\n",
            "drive-wheels_fwd           0.6861      0.080      8.619      0.000       0.529       0.843\n",
            "drive-wheels_rwd           0.7110      0.080      8.868      0.000       0.553       0.869\n",
            "engine-location_front     -0.2131      0.177     -1.207      0.229      -0.562       0.136\n",
            "engine-type_dohc           0.0504      0.057      0.882      0.379      -0.062       0.163\n",
            "engine-type_ohcv          -0.0622      0.078     -0.800      0.425      -0.216       0.091\n",
            "num-of-cylinders_eight     0.2612      0.145      1.798      0.074      -0.026       0.548\n",
            "num-of-cylinders_five      0.1521      0.127      1.199      0.232      -0.099       0.403\n",
            "num-of-cylinders_four     -0.0208      0.112     -0.185      0.853      -0.243       0.201\n",
            "num-of-cylinders_six      -0.0250      0.114     -0.219      0.827      -0.250       0.200\n",
            "fuel-system_idi            0.7067      0.074      9.529      0.000       0.560       0.853\n",
            "==============================================================================\n",
            "Omnibus:                        6.673   Durbin-Watson:                   1.370\n",
            "Prob(Omnibus):                  0.036   Jarque-Bera (JB):                8.674\n",
            "Skew:                           0.222   Prob(JB):                       0.0131\n",
            "Kurtosis:                       3.939   Cond. No.                     3.21e+16\n",
            "==============================================================================\n",
            "\n",
            "Notes:\n",
            "[1] Standard Errors assume that the covariance matrix of the errors is correctly specified.\n",
            "[2] The smallest eigenvalue is 1.29e-24. This might indicate that there are\n",
            "strong multicollinearity problems or that the design matrix is singular.\n"
          ]
        }
      ]
    },
    {
      "cell_type": "markdown",
      "source": [
        "Luego de la tranformación, el valor de la prueba JB mejora, sin embargo, aún es ceercano a cero y el valor de la prueba Durbin-Watson es menor a 1.5, lo que indica autocorrelación entre los residuos. Para el mejoramiento de este modelo, sería necesario generar una serie de predicciones que nos permitan realizar un análisis de residuos. Esto permitiría además validar los supuestos de normalidad en los residuos y homocedasticidad."
      ],
      "metadata": {
        "id": "T5wb6k9Yintz"
      }
    }
  ]
}